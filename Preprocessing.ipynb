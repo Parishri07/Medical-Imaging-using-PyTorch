{
  "nbformat": 4,
  "nbformat_minor": 0,
  "metadata": {
    "colab": {
      "provenance": [],
      "authorship_tag": "ABX9TyN/naE8HMKN5U0vH7iDxJZ9",
      "include_colab_link": true
    },
    "kernelspec": {
      "name": "python3",
      "display_name": "Python 3"
    },
    "language_info": {
      "name": "python"
    }
  },
  "cells": [
    {
      "cell_type": "markdown",
      "metadata": {
        "id": "view-in-github",
        "colab_type": "text"
      },
      "source": [
        "<a href=\"https://colab.research.google.com/github/Parishri07/Medical-Imaging-using-PyTorch/blob/main/Preprocessing.ipynb\" target=\"_parent\"><img src=\"https://colab.research.google.com/assets/colab-badge.svg\" alt=\"Open In Colab\"/></a>"
      ]
    },
    {
      "cell_type": "code",
      "source": [
        "!pip install dicom2nifti"
      ],
      "metadata": {
        "colab": {
          "base_uri": "https://localhost:8080/"
        },
        "id": "7T0EKGggU8TV",
        "outputId": "97063caf-0874-48d3-f5b2-24458f4cec42"
      },
      "execution_count": 1,
      "outputs": [
        {
          "output_type": "stream",
          "name": "stdout",
          "text": [
            "Collecting dicom2nifti\n",
            "  Downloading dicom2nifti-2.4.11-py3-none-any.whl.metadata (1.3 kB)\n",
            "Requirement already satisfied: nibabel in /usr/local/lib/python3.10/dist-packages (from dicom2nifti) (5.0.1)\n",
            "Requirement already satisfied: numpy in /usr/local/lib/python3.10/dist-packages (from dicom2nifti) (1.26.4)\n",
            "Requirement already satisfied: scipy in /usr/local/lib/python3.10/dist-packages (from dicom2nifti) (1.13.1)\n",
            "Collecting pydicom>=2.2.0 (from dicom2nifti)\n",
            "  Downloading pydicom-2.4.4-py3-none-any.whl.metadata (7.8 kB)\n",
            "Collecting python-gdcm (from dicom2nifti)\n",
            "  Downloading python_gdcm-3.0.24.1-cp310-cp310-manylinux_2_17_x86_64.manylinux2014_x86_64.whl.metadata (3.7 kB)\n",
            "Requirement already satisfied: packaging>=17 in /usr/local/lib/python3.10/dist-packages (from nibabel->dicom2nifti) (24.1)\n",
            "Requirement already satisfied: setuptools in /usr/local/lib/python3.10/dist-packages (from nibabel->dicom2nifti) (71.0.4)\n",
            "Downloading dicom2nifti-2.4.11-py3-none-any.whl (43 kB)\n",
            "\u001b[2K   \u001b[90m━━━━━━━━━━━━━━━━━━━━━━━━━━━━━━━━━━━━━━━━\u001b[0m \u001b[32m43.6/43.6 kB\u001b[0m \u001b[31m1.0 MB/s\u001b[0m eta \u001b[36m0:00:00\u001b[0m\n",
            "\u001b[?25hDownloading pydicom-2.4.4-py3-none-any.whl (1.8 MB)\n",
            "\u001b[2K   \u001b[90m━━━━━━━━━━━━━━━━━━━━━━━━━━━━━━━━━━━━━━━━\u001b[0m \u001b[32m1.8/1.8 MB\u001b[0m \u001b[31m19.6 MB/s\u001b[0m eta \u001b[36m0:00:00\u001b[0m\n",
            "\u001b[?25hDownloading python_gdcm-3.0.24.1-cp310-cp310-manylinux_2_17_x86_64.manylinux2014_x86_64.whl (13.1 MB)\n",
            "\u001b[2K   \u001b[90m━━━━━━━━━━━━━━━━━━━━━━━━━━━━━━━━━━━━━━━━\u001b[0m \u001b[32m13.1/13.1 MB\u001b[0m \u001b[31m52.7 MB/s\u001b[0m eta \u001b[36m0:00:00\u001b[0m\n",
            "\u001b[?25hInstalling collected packages: python-gdcm, pydicom, dicom2nifti\n",
            "Successfully installed dicom2nifti-2.4.11 pydicom-2.4.4 python-gdcm-3.0.24.1\n"
          ]
        }
      ]
    },
    {
      "cell_type": "code",
      "execution_count": 2,
      "metadata": {
        "id": "iLUFLA7BSdnk"
      },
      "outputs": [],
      "source": [
        "import dicom2nifti"
      ]
    },
    {
      "cell_type": "code",
      "source": [
        "from google.colab import drive\n",
        "drive.mount('/content/drive')"
      ],
      "metadata": {
        "colab": {
          "base_uri": "https://localhost:8080/"
        },
        "id": "3YXsHlFmU4LZ",
        "outputId": "0580eb56-a444-447f-c393-3b56e0d3fcbf"
      },
      "execution_count": 3,
      "outputs": [
        {
          "output_type": "stream",
          "name": "stdout",
          "text": [
            "Mounted at /content/drive\n"
          ]
        }
      ]
    },
    {
      "cell_type": "code",
      "source": [
        "path_to_dicom = \"/content/drive/MyDrive/Colab Notebooks/Brain MRI scan/ST000001/SE000002\""
      ],
      "metadata": {
        "id": "b8kbZ3ldU4k3"
      },
      "execution_count": 4,
      "outputs": []
    },
    {
      "cell_type": "code",
      "source": [
        "output_path = \"/content/sample_data\"\n",
        "\n",
        "dicom2nifti.convert_directory(path_to_dicom, output_path)"
      ],
      "metadata": {
        "id": "MLcGYtyTayoY"
      },
      "execution_count": 5,
      "outputs": []
    },
    {
      "cell_type": "code",
      "source": [
        "%matplotlib notebook\n",
        "import nibabel as nib\n",
        "import matplotlib.pyplot as plt\n",
        "import numpy as np"
      ],
      "metadata": {
        "id": "R35pppFVa425"
      },
      "execution_count": 6,
      "outputs": []
    },
    {
      "cell_type": "code",
      "source": [
        "brain_mri = nib.load('/content/sample_data/301_dwi_anonymized.nii.gz')"
      ],
      "metadata": {
        "id": "aKMv9vMpbIbR"
      },
      "execution_count": 7,
      "outputs": []
    },
    {
      "cell_type": "code",
      "source": [
        "brain_mri_data = brain_mri.get_fdata()"
      ],
      "metadata": {
        "id": "46C59NzMbOOx"
      },
      "execution_count": 8,
      "outputs": []
    },
    {
      "cell_type": "code",
      "source": [
        "affine = brain_mri.affine\n",
        "shape = brain_mri.shape"
      ],
      "metadata": {
        "id": "8ChegInSbUBJ"
      },
      "execution_count": 9,
      "outputs": []
    },
    {
      "cell_type": "code",
      "source": [
        "print(affine)"
      ],
      "metadata": {
        "colab": {
          "base_uri": "https://localhost:8080/"
        },
        "id": "wbVceRRWbi-O",
        "outputId": "80c2c7c0-15a0-43c1-c2eb-f18cf73d9524"
      },
      "execution_count": 10,
      "outputs": [
        {
          "output_type": "stream",
          "name": "stdout",
          "text": [
            "[[-8.14996898e-01  1.85306575e-02  2.94511348e-01  1.21936066e+02]\n",
            " [ 2.05970202e-02  8.14844251e-01  3.09533834e-01 -1.12818481e+02]\n",
            " [ 3.90408374e-02 -4.30558622e-02  5.98476839e+00 -6.33279419e+01]\n",
            " [ 0.00000000e+00  0.00000000e+00  0.00000000e+00  1.00000000e+00]]\n"
          ]
        }
      ]
    },
    {
      "cell_type": "code",
      "source": [
        "shape"
      ],
      "metadata": {
        "colab": {
          "base_uri": "https://localhost:8080/"
        },
        "id": "0rPxOzEqblJF",
        "outputId": "e901499e-1655-48e1-cf4a-7d566398da14"
      },
      "execution_count": 11,
      "outputs": [
        {
          "output_type": "execute_result",
          "data": {
            "text/plain": [
              "(288, 288, 25, 5)"
            ]
          },
          "metadata": {},
          "execution_count": 11
        }
      ]
    },
    {
      "cell_type": "code",
      "source": [
        "selected_channel = 1  # Choose the desired channel (0-indexed)\n",
        "brain_mri_reduced = brain_mri.slicer[:,:,:,selected_channel]"
      ],
      "metadata": {
        "id": "eg_-KHRv8Bos"
      },
      "execution_count": 30,
      "outputs": []
    },
    {
      "cell_type": "code",
      "source": [
        "brain_mri_reduced.header.get_zooms()"
      ],
      "metadata": {
        "colab": {
          "base_uri": "https://localhost:8080/"
        },
        "id": "vDIBP3PPbpI6",
        "outputId": "f606d1d7-ea05-4efb-8a7c-c699d0c95142"
      },
      "execution_count": 31,
      "outputs": [
        {
          "output_type": "execute_result",
          "data": {
            "text/plain": [
              "(0.8161914, 0.8161914, 6.0)"
            ]
          },
          "metadata": {},
          "execution_count": 31
        }
      ]
    },
    {
      "cell_type": "code",
      "source": [
        "brain_mri_data_reduced = brain_mri_reduced.get_fdata()"
      ],
      "metadata": {
        "id": "Clo6jiIBSfl9"
      },
      "execution_count": 32,
      "outputs": []
    },
    {
      "cell_type": "code",
      "source": [
        "brain_mri_data_reduced.shape"
      ],
      "metadata": {
        "colab": {
          "base_uri": "https://localhost:8080/"
        },
        "id": "lpUcR_DxUQIW",
        "outputId": "ddd13a6c-ac3f-4635-91d3-7d1c5020fdef"
      },
      "execution_count": 37,
      "outputs": [
        {
          "output_type": "execute_result",
          "data": {
            "text/plain": [
              "(288, 288, 25)"
            ]
          },
          "metadata": {},
          "execution_count": 37
        }
      ]
    },
    {
      "cell_type": "markdown",
      "source": [
        "Common axis codes are:\n",
        "\n",
        "L: Left\n",
        "\n",
        "R: Right\n",
        "\n",
        "A: Anterior (front)\n",
        "\n",
        "P: Posterior (back)\n",
        "\n",
        "I: Inferior (bottom)\n",
        "\n",
        "S: Superior (top)"
      ],
      "metadata": {
        "id": "RD_Lo-PucZgd"
      }
    },
    {
      "cell_type": "code",
      "source": [
        "nib.aff2axcodes(affine)"
      ],
      "metadata": {
        "colab": {
          "base_uri": "https://localhost:8080/"
        },
        "id": "blRRpabTbyuQ",
        "outputId": "46faeb49-2c15-416d-c929-1fe8ca115a23"
      },
      "execution_count": 25,
      "outputs": [
        {
          "output_type": "execute_result",
          "data": {
            "text/plain": [
              "('L', 'A', 'S')"
            ]
          },
          "metadata": {},
          "execution_count": 25
        }
      ]
    },
    {
      "cell_type": "markdown",
      "source": [
        "The first axis (x-axis) points to the Left.\n",
        "\n",
        "The second axis (y-axis) points Anteriorly (front).\n",
        "\n",
        "The third axis (z-axis) points Superiorly (top)."
      ],
      "metadata": {
        "id": "QwFot5V_cVZM"
      }
    },
    {
      "cell_type": "code",
      "source": [
        "fig, axis = plt.subplots(1, 2)\n",
        "axis[0].imshow(brain_mri_data_reduced[0, :, :], cmap='gray')\n",
        "axis[1].imshow(brain_mri_data_reduced[0, :, :], cmap='gray')"
      ],
      "metadata": {
        "colab": {
          "base_uri": "https://localhost:8080/"
        },
        "id": "Lm91auZkcU8j",
        "outputId": "d914c2e5-bab8-446d-aeab-c29f6b976305"
      },
      "execution_count": 40,
      "outputs": [
        {
          "output_type": "execute_result",
          "data": {
            "text/plain": [
              "<matplotlib.image.AxesImage at 0x79528dc26fe0>"
            ]
          },
          "metadata": {},
          "execution_count": 40
        }
      ]
    },
    {
      "cell_type": "markdown",
      "source": [
        "**Convert from Physical to Voxel coordinates and vice versa**"
      ],
      "metadata": {
        "id": "lOEPZCFhU2TG"
      }
    },
    {
      "cell_type": "code",
      "source": [
        "voxel_coords = np.array((0, 0, 0, 1))\n",
        "physical_coords = affine @ voxel_coords\n",
        "physical_coords"
      ],
      "metadata": {
        "colab": {
          "base_uri": "https://localhost:8080/"
        },
        "id": "vd2ZP6RiUfpG",
        "outputId": "c19431d6-e1d6-41ae-e160-1570cfefae42"
      },
      "execution_count": 42,
      "outputs": [
        {
          "output_type": "execute_result",
          "data": {
            "text/plain": [
              "array([ 121.93606567, -112.81848145,  -63.32794189,    1.        ])"
            ]
          },
          "metadata": {},
          "execution_count": 42
        }
      ]
    },
    {
      "cell_type": "code",
      "source": [
        "affine[:, 3:]"
      ],
      "metadata": {
        "colab": {
          "base_uri": "https://localhost:8080/"
        },
        "id": "yrKFgqUOVUWZ",
        "outputId": "94e30041-5e53-4822-a1a6-3c9d7893ba7f"
      },
      "execution_count": 43,
      "outputs": [
        {
          "output_type": "execute_result",
          "data": {
            "text/plain": [
              "array([[ 121.93606567],\n",
              "       [-112.81848145],\n",
              "       [ -63.32794189],\n",
              "       [   1.        ]])"
            ]
          },
          "metadata": {},
          "execution_count": 43
        }
      ]
    },
    {
      "cell_type": "code",
      "source": [
        "voxel_coords_manual = np.array((0, 0, 0))\n",
        "physical_coords_manual = affine[:3, 3] + affine[:3, :3] @ voxel_coords_manual\n",
        "physical_coords_manual"
      ],
      "metadata": {
        "colab": {
          "base_uri": "https://localhost:8080/"
        },
        "id": "50Mw50ioVdf5",
        "outputId": "1268a0ac-bd7b-404d-c783-79d05ff4f574"
      },
      "execution_count": 44,
      "outputs": [
        {
          "output_type": "execute_result",
          "data": {
            "text/plain": [
              "array([ 121.93606567, -112.81848145,  -63.32794189])"
            ]
          },
          "metadata": {},
          "execution_count": 44
        }
      ]
    },
    {
      "cell_type": "code",
      "source": [
        "physical_coords = [121.93606567, -112.81848145,  -63.32794189,    1.]\n",
        "(np.linalg.inv(affine) @ physical_coords).round()"
      ],
      "metadata": {
        "colab": {
          "base_uri": "https://localhost:8080/"
        },
        "id": "EE_ImHF8V3tb",
        "outputId": "f4c1234a-ed83-4a25-c896-24b271d30c30"
      },
      "execution_count": 45,
      "outputs": [
        {
          "output_type": "execute_result",
          "data": {
            "text/plain": [
              "array([ 0., -0.,  0.,  1.])"
            ]
          },
          "metadata": {},
          "execution_count": 45
        }
      ]
    },
    {
      "cell_type": "markdown",
      "source": [
        "**Resampling**"
      ],
      "metadata": {
        "id": "3tcwmfckXRiG"
      }
    },
    {
      "cell_type": "code",
      "source": [
        "print(brain_mri_reduced.shape)\n",
        "print(brain_mri_reduced.header.get_zooms())"
      ],
      "metadata": {
        "colab": {
          "base_uri": "https://localhost:8080/"
        },
        "id": "lR0MO6cBW_mK",
        "outputId": "cc3094e7-ede5-4f08-9ce5-5526261170fc"
      },
      "execution_count": 47,
      "outputs": [
        {
          "output_type": "stream",
          "name": "stdout",
          "text": [
            "(288, 288, 25)\n",
            "(0.8161914, 0.8161914, 6.0)\n"
          ]
        }
      ]
    },
    {
      "cell_type": "code",
      "source": [
        " import nibabel.processing"
      ],
      "metadata": {
        "id": "ZHbW9XOyXZCw"
      },
      "execution_count": 48,
      "outputs": []
    },
    {
      "cell_type": "code",
      "source": [
        "voxel_size = (2, 2, 2)\n",
        "brain_mri_resized = nibabel.processing.conform(brain_mri_reduced, (128, 128, 100), voxel_size, orientation='LAS')\n",
        "brain_mri_resized_data = brain_mri_resized.get_fdata()"
      ],
      "metadata": {
        "id": "s28dW_gHa8vh"
      },
      "execution_count": 49,
      "outputs": []
    },
    {
      "cell_type": "code",
      "source": [
        "print(brain_mri_resized.shape)\n",
        "print(brain_mri_resized.header.get_zooms())"
      ],
      "metadata": {
        "colab": {
          "base_uri": "https://localhost:8080/"
        },
        "id": "CXvJgOg8bhEw",
        "outputId": "6703a7cf-b8b5-4957-fd9b-baf35fea1900"
      },
      "execution_count": 50,
      "outputs": [
        {
          "output_type": "stream",
          "name": "stdout",
          "text": [
            "(128, 128, 100)\n",
            "(2.0, 2.0, 2.0)\n"
          ]
        }
      ]
    },
    {
      "cell_type": "code",
      "source": [
        "fig, axis = plt.subplots(1, 2)\n",
        "axis[1].imshow(brain_mri_resized_data[:, :, 50], cmap='gray')"
      ],
      "metadata": {
        "colab": {
          "base_uri": "https://localhost:8080/"
        },
        "id": "DEJ9i40wbjlC",
        "outputId": "54bbf44d-3b1d-4cbd-e4ee-3ec048dcc040"
      },
      "execution_count": 51,
      "outputs": [
        {
          "output_type": "execute_result",
          "data": {
            "text/plain": [
              "<matplotlib.image.AxesImage at 0x79528daae320>"
            ]
          },
          "metadata": {},
          "execution_count": 51
        }
      ]
    },
    {
      "cell_type": "markdown",
      "source": [
        "Normalization and Standardization"
      ],
      "metadata": {
        "id": "CNmF8bm7b-mT"
      }
    },
    {
      "cell_type": "code",
      "source": [
        "path_to_dicom = \"/content/drive/MyDrive/Colab Notebooks/CT Medical images/dicom_dir\""
      ],
      "metadata": {
        "id": "Dl43vChnb7I_"
      },
      "execution_count": 52,
      "outputs": []
    },
    {
      "cell_type": "code",
      "source": [
        "output_path = \"/content\"\n",
        "\n",
        "dicom2nifti.convert_directory(path_to_dicom, output_path)"
      ],
      "metadata": {
        "colab": {
          "base_uri": "https://localhost:8080/"
        },
        "id": "EJnwiML-cpSe",
        "outputId": "80ed09d8-16e7-4cdf-8e0a-7213141c99d2"
      },
      "execution_count": 55,
      "outputs": [
        {
          "output_type": "stream",
          "name": "stderr",
          "text": [
            "WARNING:dicom2nifti.convert_generic:Removing duplicate slice from series\n",
            "WARNING:dicom2nifti.common:At least 3 slices are needed for correct conversion\n",
            "WARNING:dicom2nifti.common:---------------------------------------------------------\n",
            "Traceback (most recent call last):\n",
            "  File \"/usr/local/lib/python3.10/dist-packages/dicom2nifti/convert_dir.py\", line 85, in convert_directory\n",
            "    convert_dicom.dicom_array_to_nifti(dicom_input, nifti_file, reorient)\n",
            "  File \"/usr/local/lib/python3.10/dist-packages/dicom2nifti/convert_dicom.py\", line 118, in dicom_array_to_nifti\n",
            "    results = convert_generic.dicom_to_nifti(dicom_list, output_file)\n",
            "  File \"/usr/local/lib/python3.10/dist-packages/dicom2nifti/convert_generic.py\", line 230, in dicom_to_nifti\n",
            "    common.validate_slicecount(dicom_input)\n",
            "  File \"/usr/local/lib/python3.10/dist-packages/dicom2nifti/common.py\", line 1023, in validate_slicecount\n",
            "    raise ConversionValidationError('TOO_FEW_SLICES/LOCALIZER')\n",
            "dicom2nifti.exceptions.ConversionValidationError: TOO_FEW_SLICES/LOCALIZER\n",
            "WARNING:dicom2nifti.common:At least 3 slices are needed for correct conversion\n",
            "WARNING:dicom2nifti.common:---------------------------------------------------------\n",
            "Traceback (most recent call last):\n",
            "  File \"/usr/local/lib/python3.10/dist-packages/dicom2nifti/convert_dir.py\", line 85, in convert_directory\n",
            "    convert_dicom.dicom_array_to_nifti(dicom_input, nifti_file, reorient)\n",
            "  File \"/usr/local/lib/python3.10/dist-packages/dicom2nifti/convert_dicom.py\", line 118, in dicom_array_to_nifti\n",
            "    results = convert_generic.dicom_to_nifti(dicom_list, output_file)\n",
            "  File \"/usr/local/lib/python3.10/dist-packages/dicom2nifti/convert_generic.py\", line 230, in dicom_to_nifti\n",
            "    common.validate_slicecount(dicom_input)\n",
            "  File \"/usr/local/lib/python3.10/dist-packages/dicom2nifti/common.py\", line 1023, in validate_slicecount\n",
            "    raise ConversionValidationError('TOO_FEW_SLICES/LOCALIZER')\n",
            "dicom2nifti.exceptions.ConversionValidationError: TOO_FEW_SLICES/LOCALIZER\n",
            "WARNING:dicom2nifti.common:At least 3 slices are needed for correct conversion\n",
            "WARNING:dicom2nifti.common:---------------------------------------------------------\n",
            "Traceback (most recent call last):\n",
            "  File \"/usr/local/lib/python3.10/dist-packages/dicom2nifti/convert_dir.py\", line 85, in convert_directory\n",
            "    convert_dicom.dicom_array_to_nifti(dicom_input, nifti_file, reorient)\n",
            "  File \"/usr/local/lib/python3.10/dist-packages/dicom2nifti/convert_dicom.py\", line 118, in dicom_array_to_nifti\n",
            "    results = convert_generic.dicom_to_nifti(dicom_list, output_file)\n",
            "  File \"/usr/local/lib/python3.10/dist-packages/dicom2nifti/convert_generic.py\", line 230, in dicom_to_nifti\n",
            "    common.validate_slicecount(dicom_input)\n",
            "  File \"/usr/local/lib/python3.10/dist-packages/dicom2nifti/common.py\", line 1023, in validate_slicecount\n",
            "    raise ConversionValidationError('TOO_FEW_SLICES/LOCALIZER')\n",
            "dicom2nifti.exceptions.ConversionValidationError: TOO_FEW_SLICES/LOCALIZER\n",
            "WARNING:dicom2nifti.common:At least 3 slices are needed for correct conversion\n",
            "WARNING:dicom2nifti.common:---------------------------------------------------------\n",
            "Traceback (most recent call last):\n",
            "  File \"/usr/local/lib/python3.10/dist-packages/dicom2nifti/convert_dir.py\", line 85, in convert_directory\n",
            "    convert_dicom.dicom_array_to_nifti(dicom_input, nifti_file, reorient)\n",
            "  File \"/usr/local/lib/python3.10/dist-packages/dicom2nifti/convert_dicom.py\", line 118, in dicom_array_to_nifti\n",
            "    results = convert_generic.dicom_to_nifti(dicom_list, output_file)\n",
            "  File \"/usr/local/lib/python3.10/dist-packages/dicom2nifti/convert_generic.py\", line 230, in dicom_to_nifti\n",
            "    common.validate_slicecount(dicom_input)\n",
            "  File \"/usr/local/lib/python3.10/dist-packages/dicom2nifti/common.py\", line 1023, in validate_slicecount\n",
            "    raise ConversionValidationError('TOO_FEW_SLICES/LOCALIZER')\n",
            "dicom2nifti.exceptions.ConversionValidationError: TOO_FEW_SLICES/LOCALIZER\n",
            "WARNING:dicom2nifti.convert_generic:Removing duplicate slice from series\n",
            "WARNING:dicom2nifti.common:At least 3 slices are needed for correct conversion\n",
            "WARNING:dicom2nifti.common:---------------------------------------------------------\n",
            "Traceback (most recent call last):\n",
            "  File \"/usr/local/lib/python3.10/dist-packages/dicom2nifti/convert_dir.py\", line 85, in convert_directory\n",
            "    convert_dicom.dicom_array_to_nifti(dicom_input, nifti_file, reorient)\n",
            "  File \"/usr/local/lib/python3.10/dist-packages/dicom2nifti/convert_dicom.py\", line 118, in dicom_array_to_nifti\n",
            "    results = convert_generic.dicom_to_nifti(dicom_list, output_file)\n",
            "  File \"/usr/local/lib/python3.10/dist-packages/dicom2nifti/convert_generic.py\", line 230, in dicom_to_nifti\n",
            "    common.validate_slicecount(dicom_input)\n",
            "  File \"/usr/local/lib/python3.10/dist-packages/dicom2nifti/common.py\", line 1023, in validate_slicecount\n",
            "    raise ConversionValidationError('TOO_FEW_SLICES/LOCALIZER')\n",
            "dicom2nifti.exceptions.ConversionValidationError: TOO_FEW_SLICES/LOCALIZER\n",
            "WARNING:dicom2nifti.common:At least 3 slices are needed for correct conversion\n",
            "WARNING:dicom2nifti.common:---------------------------------------------------------\n",
            "Traceback (most recent call last):\n",
            "  File \"/usr/local/lib/python3.10/dist-packages/dicom2nifti/convert_dir.py\", line 85, in convert_directory\n",
            "    convert_dicom.dicom_array_to_nifti(dicom_input, nifti_file, reorient)\n",
            "  File \"/usr/local/lib/python3.10/dist-packages/dicom2nifti/convert_dicom.py\", line 118, in dicom_array_to_nifti\n",
            "    results = convert_generic.dicom_to_nifti(dicom_list, output_file)\n",
            "  File \"/usr/local/lib/python3.10/dist-packages/dicom2nifti/convert_generic.py\", line 230, in dicom_to_nifti\n",
            "    common.validate_slicecount(dicom_input)\n",
            "  File \"/usr/local/lib/python3.10/dist-packages/dicom2nifti/common.py\", line 1023, in validate_slicecount\n",
            "    raise ConversionValidationError('TOO_FEW_SLICES/LOCALIZER')\n",
            "dicom2nifti.exceptions.ConversionValidationError: TOO_FEW_SLICES/LOCALIZER\n",
            "WARNING:dicom2nifti.common:At least 3 slices are needed for correct conversion\n",
            "WARNING:dicom2nifti.common:---------------------------------------------------------\n",
            "Traceback (most recent call last):\n",
            "  File \"/usr/local/lib/python3.10/dist-packages/dicom2nifti/convert_dir.py\", line 85, in convert_directory\n",
            "    convert_dicom.dicom_array_to_nifti(dicom_input, nifti_file, reorient)\n",
            "  File \"/usr/local/lib/python3.10/dist-packages/dicom2nifti/convert_dicom.py\", line 118, in dicom_array_to_nifti\n",
            "    results = convert_generic.dicom_to_nifti(dicom_list, output_file)\n",
            "  File \"/usr/local/lib/python3.10/dist-packages/dicom2nifti/convert_generic.py\", line 230, in dicom_to_nifti\n",
            "    common.validate_slicecount(dicom_input)\n",
            "  File \"/usr/local/lib/python3.10/dist-packages/dicom2nifti/common.py\", line 1023, in validate_slicecount\n",
            "    raise ConversionValidationError('TOO_FEW_SLICES/LOCALIZER')\n",
            "dicom2nifti.exceptions.ConversionValidationError: TOO_FEW_SLICES/LOCALIZER\n",
            "WARNING:dicom2nifti.common:At least 3 slices are needed for correct conversion\n",
            "WARNING:dicom2nifti.common:---------------------------------------------------------\n",
            "Traceback (most recent call last):\n",
            "  File \"/usr/local/lib/python3.10/dist-packages/dicom2nifti/convert_dir.py\", line 85, in convert_directory\n",
            "    convert_dicom.dicom_array_to_nifti(dicom_input, nifti_file, reorient)\n",
            "  File \"/usr/local/lib/python3.10/dist-packages/dicom2nifti/convert_dicom.py\", line 118, in dicom_array_to_nifti\n",
            "    results = convert_generic.dicom_to_nifti(dicom_list, output_file)\n",
            "  File \"/usr/local/lib/python3.10/dist-packages/dicom2nifti/convert_generic.py\", line 230, in dicom_to_nifti\n",
            "    common.validate_slicecount(dicom_input)\n",
            "  File \"/usr/local/lib/python3.10/dist-packages/dicom2nifti/common.py\", line 1023, in validate_slicecount\n",
            "    raise ConversionValidationError('TOO_FEW_SLICES/LOCALIZER')\n",
            "dicom2nifti.exceptions.ConversionValidationError: TOO_FEW_SLICES/LOCALIZER\n",
            "WARNING:dicom2nifti.common:At least 3 slices are needed for correct conversion\n",
            "WARNING:dicom2nifti.common:---------------------------------------------------------\n",
            "Traceback (most recent call last):\n",
            "  File \"/usr/local/lib/python3.10/dist-packages/dicom2nifti/convert_dir.py\", line 85, in convert_directory\n",
            "    convert_dicom.dicom_array_to_nifti(dicom_input, nifti_file, reorient)\n",
            "  File \"/usr/local/lib/python3.10/dist-packages/dicom2nifti/convert_dicom.py\", line 118, in dicom_array_to_nifti\n",
            "    results = convert_generic.dicom_to_nifti(dicom_list, output_file)\n",
            "  File \"/usr/local/lib/python3.10/dist-packages/dicom2nifti/convert_generic.py\", line 230, in dicom_to_nifti\n",
            "    common.validate_slicecount(dicom_input)\n",
            "  File \"/usr/local/lib/python3.10/dist-packages/dicom2nifti/common.py\", line 1023, in validate_slicecount\n",
            "    raise ConversionValidationError('TOO_FEW_SLICES/LOCALIZER')\n",
            "dicom2nifti.exceptions.ConversionValidationError: TOO_FEW_SLICES/LOCALIZER\n",
            "WARNING:dicom2nifti.common:At least 3 slices are needed for correct conversion\n",
            "WARNING:dicom2nifti.common:---------------------------------------------------------\n",
            "Traceback (most recent call last):\n",
            "  File \"/usr/local/lib/python3.10/dist-packages/dicom2nifti/convert_dir.py\", line 85, in convert_directory\n",
            "    convert_dicom.dicom_array_to_nifti(dicom_input, nifti_file, reorient)\n",
            "  File \"/usr/local/lib/python3.10/dist-packages/dicom2nifti/convert_dicom.py\", line 118, in dicom_array_to_nifti\n",
            "    results = convert_generic.dicom_to_nifti(dicom_list, output_file)\n",
            "  File \"/usr/local/lib/python3.10/dist-packages/dicom2nifti/convert_generic.py\", line 230, in dicom_to_nifti\n",
            "    common.validate_slicecount(dicom_input)\n",
            "  File \"/usr/local/lib/python3.10/dist-packages/dicom2nifti/common.py\", line 1023, in validate_slicecount\n",
            "    raise ConversionValidationError('TOO_FEW_SLICES/LOCALIZER')\n",
            "dicom2nifti.exceptions.ConversionValidationError: TOO_FEW_SLICES/LOCALIZER\n",
            "WARNING:dicom2nifti.common:At least 3 slices are needed for correct conversion\n",
            "WARNING:dicom2nifti.common:---------------------------------------------------------\n",
            "Traceback (most recent call last):\n",
            "  File \"/usr/local/lib/python3.10/dist-packages/dicom2nifti/convert_dir.py\", line 85, in convert_directory\n",
            "    convert_dicom.dicom_array_to_nifti(dicom_input, nifti_file, reorient)\n",
            "  File \"/usr/local/lib/python3.10/dist-packages/dicom2nifti/convert_dicom.py\", line 118, in dicom_array_to_nifti\n",
            "    results = convert_generic.dicom_to_nifti(dicom_list, output_file)\n",
            "  File \"/usr/local/lib/python3.10/dist-packages/dicom2nifti/convert_generic.py\", line 230, in dicom_to_nifti\n",
            "    common.validate_slicecount(dicom_input)\n",
            "  File \"/usr/local/lib/python3.10/dist-packages/dicom2nifti/common.py\", line 1023, in validate_slicecount\n",
            "    raise ConversionValidationError('TOO_FEW_SLICES/LOCALIZER')\n",
            "dicom2nifti.exceptions.ConversionValidationError: TOO_FEW_SLICES/LOCALIZER\n",
            "WARNING:dicom2nifti.common:At least 3 slices are needed for correct conversion\n",
            "WARNING:dicom2nifti.common:---------------------------------------------------------\n",
            "Traceback (most recent call last):\n",
            "  File \"/usr/local/lib/python3.10/dist-packages/dicom2nifti/convert_dir.py\", line 85, in convert_directory\n",
            "    convert_dicom.dicom_array_to_nifti(dicom_input, nifti_file, reorient)\n",
            "  File \"/usr/local/lib/python3.10/dist-packages/dicom2nifti/convert_dicom.py\", line 118, in dicom_array_to_nifti\n",
            "    results = convert_generic.dicom_to_nifti(dicom_list, output_file)\n",
            "  File \"/usr/local/lib/python3.10/dist-packages/dicom2nifti/convert_generic.py\", line 230, in dicom_to_nifti\n",
            "    common.validate_slicecount(dicom_input)\n",
            "  File \"/usr/local/lib/python3.10/dist-packages/dicom2nifti/common.py\", line 1023, in validate_slicecount\n",
            "    raise ConversionValidationError('TOO_FEW_SLICES/LOCALIZER')\n",
            "dicom2nifti.exceptions.ConversionValidationError: TOO_FEW_SLICES/LOCALIZER\n",
            "WARNING:dicom2nifti.common:At least 3 slices are needed for correct conversion\n",
            "WARNING:dicom2nifti.common:---------------------------------------------------------\n",
            "Traceback (most recent call last):\n",
            "  File \"/usr/local/lib/python3.10/dist-packages/dicom2nifti/convert_dir.py\", line 85, in convert_directory\n",
            "    convert_dicom.dicom_array_to_nifti(dicom_input, nifti_file, reorient)\n",
            "  File \"/usr/local/lib/python3.10/dist-packages/dicom2nifti/convert_dicom.py\", line 118, in dicom_array_to_nifti\n",
            "    results = convert_generic.dicom_to_nifti(dicom_list, output_file)\n",
            "  File \"/usr/local/lib/python3.10/dist-packages/dicom2nifti/convert_generic.py\", line 230, in dicom_to_nifti\n",
            "    common.validate_slicecount(dicom_input)\n",
            "  File \"/usr/local/lib/python3.10/dist-packages/dicom2nifti/common.py\", line 1023, in validate_slicecount\n",
            "    raise ConversionValidationError('TOO_FEW_SLICES/LOCALIZER')\n",
            "dicom2nifti.exceptions.ConversionValidationError: TOO_FEW_SLICES/LOCALIZER\n",
            "WARNING:dicom2nifti.common:At least 3 slices are needed for correct conversion\n",
            "WARNING:dicom2nifti.common:---------------------------------------------------------\n",
            "Traceback (most recent call last):\n",
            "  File \"/usr/local/lib/python3.10/dist-packages/dicom2nifti/convert_dir.py\", line 85, in convert_directory\n",
            "    convert_dicom.dicom_array_to_nifti(dicom_input, nifti_file, reorient)\n",
            "  File \"/usr/local/lib/python3.10/dist-packages/dicom2nifti/convert_dicom.py\", line 118, in dicom_array_to_nifti\n",
            "    results = convert_generic.dicom_to_nifti(dicom_list, output_file)\n",
            "  File \"/usr/local/lib/python3.10/dist-packages/dicom2nifti/convert_generic.py\", line 230, in dicom_to_nifti\n",
            "    common.validate_slicecount(dicom_input)\n",
            "  File \"/usr/local/lib/python3.10/dist-packages/dicom2nifti/common.py\", line 1023, in validate_slicecount\n",
            "    raise ConversionValidationError('TOO_FEW_SLICES/LOCALIZER')\n",
            "dicom2nifti.exceptions.ConversionValidationError: TOO_FEW_SLICES/LOCALIZER\n",
            "WARNING:dicom2nifti.common:At least 3 slices are needed for correct conversion\n",
            "WARNING:dicom2nifti.common:---------------------------------------------------------\n",
            "Traceback (most recent call last):\n",
            "  File \"/usr/local/lib/python3.10/dist-packages/dicom2nifti/convert_dir.py\", line 85, in convert_directory\n",
            "    convert_dicom.dicom_array_to_nifti(dicom_input, nifti_file, reorient)\n",
            "  File \"/usr/local/lib/python3.10/dist-packages/dicom2nifti/convert_dicom.py\", line 118, in dicom_array_to_nifti\n",
            "    results = convert_generic.dicom_to_nifti(dicom_list, output_file)\n",
            "  File \"/usr/local/lib/python3.10/dist-packages/dicom2nifti/convert_generic.py\", line 230, in dicom_to_nifti\n",
            "    common.validate_slicecount(dicom_input)\n",
            "  File \"/usr/local/lib/python3.10/dist-packages/dicom2nifti/common.py\", line 1023, in validate_slicecount\n",
            "    raise ConversionValidationError('TOO_FEW_SLICES/LOCALIZER')\n",
            "dicom2nifti.exceptions.ConversionValidationError: TOO_FEW_SLICES/LOCALIZER\n",
            "WARNING:dicom2nifti.common:At least 3 slices are needed for correct conversion\n",
            "WARNING:dicom2nifti.common:---------------------------------------------------------\n",
            "Traceback (most recent call last):\n",
            "  File \"/usr/local/lib/python3.10/dist-packages/dicom2nifti/convert_dir.py\", line 85, in convert_directory\n",
            "    convert_dicom.dicom_array_to_nifti(dicom_input, nifti_file, reorient)\n",
            "  File \"/usr/local/lib/python3.10/dist-packages/dicom2nifti/convert_dicom.py\", line 118, in dicom_array_to_nifti\n",
            "    results = convert_generic.dicom_to_nifti(dicom_list, output_file)\n",
            "  File \"/usr/local/lib/python3.10/dist-packages/dicom2nifti/convert_generic.py\", line 230, in dicom_to_nifti\n",
            "    common.validate_slicecount(dicom_input)\n",
            "  File \"/usr/local/lib/python3.10/dist-packages/dicom2nifti/common.py\", line 1023, in validate_slicecount\n",
            "    raise ConversionValidationError('TOO_FEW_SLICES/LOCALIZER')\n",
            "dicom2nifti.exceptions.ConversionValidationError: TOO_FEW_SLICES/LOCALIZER\n",
            "WARNING:dicom2nifti.common:At least 3 slices are needed for correct conversion\n",
            "WARNING:dicom2nifti.common:---------------------------------------------------------\n",
            "Traceback (most recent call last):\n",
            "  File \"/usr/local/lib/python3.10/dist-packages/dicom2nifti/convert_dir.py\", line 85, in convert_directory\n",
            "    convert_dicom.dicom_array_to_nifti(dicom_input, nifti_file, reorient)\n",
            "  File \"/usr/local/lib/python3.10/dist-packages/dicom2nifti/convert_dicom.py\", line 118, in dicom_array_to_nifti\n",
            "    results = convert_generic.dicom_to_nifti(dicom_list, output_file)\n",
            "  File \"/usr/local/lib/python3.10/dist-packages/dicom2nifti/convert_generic.py\", line 230, in dicom_to_nifti\n",
            "    common.validate_slicecount(dicom_input)\n",
            "  File \"/usr/local/lib/python3.10/dist-packages/dicom2nifti/common.py\", line 1023, in validate_slicecount\n",
            "    raise ConversionValidationError('TOO_FEW_SLICES/LOCALIZER')\n",
            "dicom2nifti.exceptions.ConversionValidationError: TOO_FEW_SLICES/LOCALIZER\n",
            "WARNING:dicom2nifti.common:At least 3 slices are needed for correct conversion\n",
            "WARNING:dicom2nifti.common:---------------------------------------------------------\n",
            "Traceback (most recent call last):\n",
            "  File \"/usr/local/lib/python3.10/dist-packages/dicom2nifti/convert_dir.py\", line 85, in convert_directory\n",
            "    convert_dicom.dicom_array_to_nifti(dicom_input, nifti_file, reorient)\n",
            "  File \"/usr/local/lib/python3.10/dist-packages/dicom2nifti/convert_dicom.py\", line 118, in dicom_array_to_nifti\n",
            "    results = convert_generic.dicom_to_nifti(dicom_list, output_file)\n",
            "  File \"/usr/local/lib/python3.10/dist-packages/dicom2nifti/convert_generic.py\", line 230, in dicom_to_nifti\n",
            "    common.validate_slicecount(dicom_input)\n",
            "  File \"/usr/local/lib/python3.10/dist-packages/dicom2nifti/common.py\", line 1023, in validate_slicecount\n",
            "    raise ConversionValidationError('TOO_FEW_SLICES/LOCALIZER')\n",
            "dicom2nifti.exceptions.ConversionValidationError: TOO_FEW_SLICES/LOCALIZER\n",
            "WARNING:dicom2nifti.common:At least 3 slices are needed for correct conversion\n",
            "WARNING:dicom2nifti.common:---------------------------------------------------------\n",
            "Traceback (most recent call last):\n",
            "  File \"/usr/local/lib/python3.10/dist-packages/dicom2nifti/convert_dir.py\", line 85, in convert_directory\n",
            "    convert_dicom.dicom_array_to_nifti(dicom_input, nifti_file, reorient)\n",
            "  File \"/usr/local/lib/python3.10/dist-packages/dicom2nifti/convert_dicom.py\", line 118, in dicom_array_to_nifti\n",
            "    results = convert_generic.dicom_to_nifti(dicom_list, output_file)\n",
            "  File \"/usr/local/lib/python3.10/dist-packages/dicom2nifti/convert_generic.py\", line 230, in dicom_to_nifti\n",
            "    common.validate_slicecount(dicom_input)\n",
            "  File \"/usr/local/lib/python3.10/dist-packages/dicom2nifti/common.py\", line 1023, in validate_slicecount\n",
            "    raise ConversionValidationError('TOO_FEW_SLICES/LOCALIZER')\n",
            "dicom2nifti.exceptions.ConversionValidationError: TOO_FEW_SLICES/LOCALIZER\n",
            "WARNING:dicom2nifti.common:At least 3 slices are needed for correct conversion\n",
            "WARNING:dicom2nifti.common:---------------------------------------------------------\n",
            "Traceback (most recent call last):\n",
            "  File \"/usr/local/lib/python3.10/dist-packages/dicom2nifti/convert_dir.py\", line 85, in convert_directory\n",
            "    convert_dicom.dicom_array_to_nifti(dicom_input, nifti_file, reorient)\n",
            "  File \"/usr/local/lib/python3.10/dist-packages/dicom2nifti/convert_dicom.py\", line 118, in dicom_array_to_nifti\n",
            "    results = convert_generic.dicom_to_nifti(dicom_list, output_file)\n",
            "  File \"/usr/local/lib/python3.10/dist-packages/dicom2nifti/convert_generic.py\", line 230, in dicom_to_nifti\n",
            "    common.validate_slicecount(dicom_input)\n",
            "  File \"/usr/local/lib/python3.10/dist-packages/dicom2nifti/common.py\", line 1023, in validate_slicecount\n",
            "    raise ConversionValidationError('TOO_FEW_SLICES/LOCALIZER')\n",
            "dicom2nifti.exceptions.ConversionValidationError: TOO_FEW_SLICES/LOCALIZER\n",
            "WARNING:dicom2nifti.common:At least 3 slices are needed for correct conversion\n",
            "WARNING:dicom2nifti.common:---------------------------------------------------------\n",
            "Traceback (most recent call last):\n",
            "  File \"/usr/local/lib/python3.10/dist-packages/dicom2nifti/convert_dir.py\", line 85, in convert_directory\n",
            "    convert_dicom.dicom_array_to_nifti(dicom_input, nifti_file, reorient)\n",
            "  File \"/usr/local/lib/python3.10/dist-packages/dicom2nifti/convert_dicom.py\", line 118, in dicom_array_to_nifti\n",
            "    results = convert_generic.dicom_to_nifti(dicom_list, output_file)\n",
            "  File \"/usr/local/lib/python3.10/dist-packages/dicom2nifti/convert_generic.py\", line 230, in dicom_to_nifti\n",
            "    common.validate_slicecount(dicom_input)\n",
            "  File \"/usr/local/lib/python3.10/dist-packages/dicom2nifti/common.py\", line 1023, in validate_slicecount\n",
            "    raise ConversionValidationError('TOO_FEW_SLICES/LOCALIZER')\n",
            "dicom2nifti.exceptions.ConversionValidationError: TOO_FEW_SLICES/LOCALIZER\n",
            "WARNING:dicom2nifti.common:At least 3 slices are needed for correct conversion\n",
            "WARNING:dicom2nifti.common:---------------------------------------------------------\n",
            "Traceback (most recent call last):\n",
            "  File \"/usr/local/lib/python3.10/dist-packages/dicom2nifti/convert_dir.py\", line 85, in convert_directory\n",
            "    convert_dicom.dicom_array_to_nifti(dicom_input, nifti_file, reorient)\n",
            "  File \"/usr/local/lib/python3.10/dist-packages/dicom2nifti/convert_dicom.py\", line 118, in dicom_array_to_nifti\n",
            "    results = convert_generic.dicom_to_nifti(dicom_list, output_file)\n",
            "  File \"/usr/local/lib/python3.10/dist-packages/dicom2nifti/convert_generic.py\", line 230, in dicom_to_nifti\n",
            "    common.validate_slicecount(dicom_input)\n",
            "  File \"/usr/local/lib/python3.10/dist-packages/dicom2nifti/common.py\", line 1023, in validate_slicecount\n",
            "    raise ConversionValidationError('TOO_FEW_SLICES/LOCALIZER')\n",
            "dicom2nifti.exceptions.ConversionValidationError: TOO_FEW_SLICES/LOCALIZER\n",
            "WARNING:dicom2nifti.convert_generic:Removing duplicate slice from series\n",
            "WARNING:dicom2nifti.common:At least 3 slices are needed for correct conversion\n",
            "WARNING:dicom2nifti.common:---------------------------------------------------------\n",
            "Traceback (most recent call last):\n",
            "  File \"/usr/local/lib/python3.10/dist-packages/dicom2nifti/convert_dir.py\", line 85, in convert_directory\n",
            "    convert_dicom.dicom_array_to_nifti(dicom_input, nifti_file, reorient)\n",
            "  File \"/usr/local/lib/python3.10/dist-packages/dicom2nifti/convert_dicom.py\", line 118, in dicom_array_to_nifti\n",
            "    results = convert_generic.dicom_to_nifti(dicom_list, output_file)\n",
            "  File \"/usr/local/lib/python3.10/dist-packages/dicom2nifti/convert_generic.py\", line 230, in dicom_to_nifti\n",
            "    common.validate_slicecount(dicom_input)\n",
            "  File \"/usr/local/lib/python3.10/dist-packages/dicom2nifti/common.py\", line 1023, in validate_slicecount\n",
            "    raise ConversionValidationError('TOO_FEW_SLICES/LOCALIZER')\n",
            "dicom2nifti.exceptions.ConversionValidationError: TOO_FEW_SLICES/LOCALIZER\n",
            "WARNING:dicom2nifti.common:At least 3 slices are needed for correct conversion\n",
            "WARNING:dicom2nifti.common:---------------------------------------------------------\n",
            "Traceback (most recent call last):\n",
            "  File \"/usr/local/lib/python3.10/dist-packages/dicom2nifti/convert_dir.py\", line 85, in convert_directory\n",
            "    convert_dicom.dicom_array_to_nifti(dicom_input, nifti_file, reorient)\n",
            "  File \"/usr/local/lib/python3.10/dist-packages/dicom2nifti/convert_dicom.py\", line 118, in dicom_array_to_nifti\n",
            "    results = convert_generic.dicom_to_nifti(dicom_list, output_file)\n",
            "  File \"/usr/local/lib/python3.10/dist-packages/dicom2nifti/convert_generic.py\", line 230, in dicom_to_nifti\n",
            "    common.validate_slicecount(dicom_input)\n",
            "  File \"/usr/local/lib/python3.10/dist-packages/dicom2nifti/common.py\", line 1023, in validate_slicecount\n",
            "    raise ConversionValidationError('TOO_FEW_SLICES/LOCALIZER')\n",
            "dicom2nifti.exceptions.ConversionValidationError: TOO_FEW_SLICES/LOCALIZER\n",
            "WARNING:dicom2nifti.common:At least 3 slices are needed for correct conversion\n",
            "WARNING:dicom2nifti.common:---------------------------------------------------------\n",
            "Traceback (most recent call last):\n",
            "  File \"/usr/local/lib/python3.10/dist-packages/dicom2nifti/convert_dir.py\", line 85, in convert_directory\n",
            "    convert_dicom.dicom_array_to_nifti(dicom_input, nifti_file, reorient)\n",
            "  File \"/usr/local/lib/python3.10/dist-packages/dicom2nifti/convert_dicom.py\", line 118, in dicom_array_to_nifti\n",
            "    results = convert_generic.dicom_to_nifti(dicom_list, output_file)\n",
            "  File \"/usr/local/lib/python3.10/dist-packages/dicom2nifti/convert_generic.py\", line 230, in dicom_to_nifti\n",
            "    common.validate_slicecount(dicom_input)\n",
            "  File \"/usr/local/lib/python3.10/dist-packages/dicom2nifti/common.py\", line 1023, in validate_slicecount\n",
            "    raise ConversionValidationError('TOO_FEW_SLICES/LOCALIZER')\n",
            "dicom2nifti.exceptions.ConversionValidationError: TOO_FEW_SLICES/LOCALIZER\n",
            "WARNING:dicom2nifti.common:At least 3 slices are needed for correct conversion\n",
            "WARNING:dicom2nifti.common:---------------------------------------------------------\n",
            "Traceback (most recent call last):\n",
            "  File \"/usr/local/lib/python3.10/dist-packages/dicom2nifti/convert_dir.py\", line 85, in convert_directory\n",
            "    convert_dicom.dicom_array_to_nifti(dicom_input, nifti_file, reorient)\n",
            "  File \"/usr/local/lib/python3.10/dist-packages/dicom2nifti/convert_dicom.py\", line 118, in dicom_array_to_nifti\n",
            "    results = convert_generic.dicom_to_nifti(dicom_list, output_file)\n",
            "  File \"/usr/local/lib/python3.10/dist-packages/dicom2nifti/convert_generic.py\", line 230, in dicom_to_nifti\n",
            "    common.validate_slicecount(dicom_input)\n",
            "  File \"/usr/local/lib/python3.10/dist-packages/dicom2nifti/common.py\", line 1023, in validate_slicecount\n",
            "    raise ConversionValidationError('TOO_FEW_SLICES/LOCALIZER')\n",
            "dicom2nifti.exceptions.ConversionValidationError: TOO_FEW_SLICES/LOCALIZER\n",
            "WARNING:dicom2nifti.common:At least 3 slices are needed for correct conversion\n",
            "WARNING:dicom2nifti.common:---------------------------------------------------------\n",
            "Traceback (most recent call last):\n",
            "  File \"/usr/local/lib/python3.10/dist-packages/dicom2nifti/convert_dir.py\", line 85, in convert_directory\n",
            "    convert_dicom.dicom_array_to_nifti(dicom_input, nifti_file, reorient)\n",
            "  File \"/usr/local/lib/python3.10/dist-packages/dicom2nifti/convert_dicom.py\", line 118, in dicom_array_to_nifti\n",
            "    results = convert_generic.dicom_to_nifti(dicom_list, output_file)\n",
            "  File \"/usr/local/lib/python3.10/dist-packages/dicom2nifti/convert_generic.py\", line 230, in dicom_to_nifti\n",
            "    common.validate_slicecount(dicom_input)\n",
            "  File \"/usr/local/lib/python3.10/dist-packages/dicom2nifti/common.py\", line 1023, in validate_slicecount\n",
            "    raise ConversionValidationError('TOO_FEW_SLICES/LOCALIZER')\n",
            "dicom2nifti.exceptions.ConversionValidationError: TOO_FEW_SLICES/LOCALIZER\n",
            "WARNING:dicom2nifti.common:At least 3 slices are needed for correct conversion\n",
            "WARNING:dicom2nifti.common:---------------------------------------------------------\n",
            "Traceback (most recent call last):\n",
            "  File \"/usr/local/lib/python3.10/dist-packages/dicom2nifti/convert_dir.py\", line 85, in convert_directory\n",
            "    convert_dicom.dicom_array_to_nifti(dicom_input, nifti_file, reorient)\n",
            "  File \"/usr/local/lib/python3.10/dist-packages/dicom2nifti/convert_dicom.py\", line 118, in dicom_array_to_nifti\n",
            "    results = convert_generic.dicom_to_nifti(dicom_list, output_file)\n",
            "  File \"/usr/local/lib/python3.10/dist-packages/dicom2nifti/convert_generic.py\", line 230, in dicom_to_nifti\n",
            "    common.validate_slicecount(dicom_input)\n",
            "  File \"/usr/local/lib/python3.10/dist-packages/dicom2nifti/common.py\", line 1023, in validate_slicecount\n",
            "    raise ConversionValidationError('TOO_FEW_SLICES/LOCALIZER')\n",
            "dicom2nifti.exceptions.ConversionValidationError: TOO_FEW_SLICES/LOCALIZER\n",
            "WARNING:dicom2nifti.common:At least 3 slices are needed for correct conversion\n",
            "WARNING:dicom2nifti.common:---------------------------------------------------------\n",
            "Traceback (most recent call last):\n",
            "  File \"/usr/local/lib/python3.10/dist-packages/dicom2nifti/convert_dir.py\", line 85, in convert_directory\n",
            "    convert_dicom.dicom_array_to_nifti(dicom_input, nifti_file, reorient)\n",
            "  File \"/usr/local/lib/python3.10/dist-packages/dicom2nifti/convert_dicom.py\", line 118, in dicom_array_to_nifti\n",
            "    results = convert_generic.dicom_to_nifti(dicom_list, output_file)\n",
            "  File \"/usr/local/lib/python3.10/dist-packages/dicom2nifti/convert_generic.py\", line 230, in dicom_to_nifti\n",
            "    common.validate_slicecount(dicom_input)\n",
            "  File \"/usr/local/lib/python3.10/dist-packages/dicom2nifti/common.py\", line 1023, in validate_slicecount\n",
            "    raise ConversionValidationError('TOO_FEW_SLICES/LOCALIZER')\n",
            "dicom2nifti.exceptions.ConversionValidationError: TOO_FEW_SLICES/LOCALIZER\n",
            "WARNING:dicom2nifti.common:At least 3 slices are needed for correct conversion\n",
            "WARNING:dicom2nifti.common:---------------------------------------------------------\n",
            "Traceback (most recent call last):\n",
            "  File \"/usr/local/lib/python3.10/dist-packages/dicom2nifti/convert_dir.py\", line 85, in convert_directory\n",
            "    convert_dicom.dicom_array_to_nifti(dicom_input, nifti_file, reorient)\n",
            "  File \"/usr/local/lib/python3.10/dist-packages/dicom2nifti/convert_dicom.py\", line 118, in dicom_array_to_nifti\n",
            "    results = convert_generic.dicom_to_nifti(dicom_list, output_file)\n",
            "  File \"/usr/local/lib/python3.10/dist-packages/dicom2nifti/convert_generic.py\", line 230, in dicom_to_nifti\n",
            "    common.validate_slicecount(dicom_input)\n",
            "  File \"/usr/local/lib/python3.10/dist-packages/dicom2nifti/common.py\", line 1023, in validate_slicecount\n",
            "    raise ConversionValidationError('TOO_FEW_SLICES/LOCALIZER')\n",
            "dicom2nifti.exceptions.ConversionValidationError: TOO_FEW_SLICES/LOCALIZER\n",
            "WARNING:dicom2nifti.common:At least 3 slices are needed for correct conversion\n",
            "WARNING:dicom2nifti.common:---------------------------------------------------------\n",
            "Traceback (most recent call last):\n",
            "  File \"/usr/local/lib/python3.10/dist-packages/dicom2nifti/convert_dir.py\", line 85, in convert_directory\n",
            "    convert_dicom.dicom_array_to_nifti(dicom_input, nifti_file, reorient)\n",
            "  File \"/usr/local/lib/python3.10/dist-packages/dicom2nifti/convert_dicom.py\", line 118, in dicom_array_to_nifti\n",
            "    results = convert_generic.dicom_to_nifti(dicom_list, output_file)\n",
            "  File \"/usr/local/lib/python3.10/dist-packages/dicom2nifti/convert_generic.py\", line 230, in dicom_to_nifti\n",
            "    common.validate_slicecount(dicom_input)\n",
            "  File \"/usr/local/lib/python3.10/dist-packages/dicom2nifti/common.py\", line 1023, in validate_slicecount\n",
            "    raise ConversionValidationError('TOO_FEW_SLICES/LOCALIZER')\n",
            "dicom2nifti.exceptions.ConversionValidationError: TOO_FEW_SLICES/LOCALIZER\n",
            "WARNING:dicom2nifti.common:At least 3 slices are needed for correct conversion\n",
            "WARNING:dicom2nifti.common:---------------------------------------------------------\n",
            "Traceback (most recent call last):\n",
            "  File \"/usr/local/lib/python3.10/dist-packages/dicom2nifti/convert_dir.py\", line 85, in convert_directory\n",
            "    convert_dicom.dicom_array_to_nifti(dicom_input, nifti_file, reorient)\n",
            "  File \"/usr/local/lib/python3.10/dist-packages/dicom2nifti/convert_dicom.py\", line 118, in dicom_array_to_nifti\n",
            "    results = convert_generic.dicom_to_nifti(dicom_list, output_file)\n",
            "  File \"/usr/local/lib/python3.10/dist-packages/dicom2nifti/convert_generic.py\", line 230, in dicom_to_nifti\n",
            "    common.validate_slicecount(dicom_input)\n",
            "  File \"/usr/local/lib/python3.10/dist-packages/dicom2nifti/common.py\", line 1023, in validate_slicecount\n",
            "    raise ConversionValidationError('TOO_FEW_SLICES/LOCALIZER')\n",
            "dicom2nifti.exceptions.ConversionValidationError: TOO_FEW_SLICES/LOCALIZER\n",
            "WARNING:dicom2nifti.common:At least 3 slices are needed for correct conversion\n",
            "WARNING:dicom2nifti.common:---------------------------------------------------------\n",
            "Traceback (most recent call last):\n",
            "  File \"/usr/local/lib/python3.10/dist-packages/dicom2nifti/convert_dir.py\", line 85, in convert_directory\n",
            "    convert_dicom.dicom_array_to_nifti(dicom_input, nifti_file, reorient)\n",
            "  File \"/usr/local/lib/python3.10/dist-packages/dicom2nifti/convert_dicom.py\", line 118, in dicom_array_to_nifti\n",
            "    results = convert_generic.dicom_to_nifti(dicom_list, output_file)\n",
            "  File \"/usr/local/lib/python3.10/dist-packages/dicom2nifti/convert_generic.py\", line 230, in dicom_to_nifti\n",
            "    common.validate_slicecount(dicom_input)\n",
            "  File \"/usr/local/lib/python3.10/dist-packages/dicom2nifti/common.py\", line 1023, in validate_slicecount\n",
            "    raise ConversionValidationError('TOO_FEW_SLICES/LOCALIZER')\n",
            "dicom2nifti.exceptions.ConversionValidationError: TOO_FEW_SLICES/LOCALIZER\n",
            "WARNING:dicom2nifti.common:At least 3 slices are needed for correct conversion\n",
            "WARNING:dicom2nifti.common:---------------------------------------------------------\n",
            "Traceback (most recent call last):\n",
            "  File \"/usr/local/lib/python3.10/dist-packages/dicom2nifti/convert_dir.py\", line 85, in convert_directory\n",
            "    convert_dicom.dicom_array_to_nifti(dicom_input, nifti_file, reorient)\n",
            "  File \"/usr/local/lib/python3.10/dist-packages/dicom2nifti/convert_dicom.py\", line 118, in dicom_array_to_nifti\n",
            "    results = convert_generic.dicom_to_nifti(dicom_list, output_file)\n",
            "  File \"/usr/local/lib/python3.10/dist-packages/dicom2nifti/convert_generic.py\", line 230, in dicom_to_nifti\n",
            "    common.validate_slicecount(dicom_input)\n",
            "  File \"/usr/local/lib/python3.10/dist-packages/dicom2nifti/common.py\", line 1023, in validate_slicecount\n",
            "    raise ConversionValidationError('TOO_FEW_SLICES/LOCALIZER')\n",
            "dicom2nifti.exceptions.ConversionValidationError: TOO_FEW_SLICES/LOCALIZER\n",
            "WARNING:dicom2nifti.common:At least 3 slices are needed for correct conversion\n",
            "WARNING:dicom2nifti.common:---------------------------------------------------------\n",
            "Traceback (most recent call last):\n",
            "  File \"/usr/local/lib/python3.10/dist-packages/dicom2nifti/convert_dir.py\", line 85, in convert_directory\n",
            "    convert_dicom.dicom_array_to_nifti(dicom_input, nifti_file, reorient)\n",
            "  File \"/usr/local/lib/python3.10/dist-packages/dicom2nifti/convert_dicom.py\", line 118, in dicom_array_to_nifti\n",
            "    results = convert_generic.dicom_to_nifti(dicom_list, output_file)\n",
            "  File \"/usr/local/lib/python3.10/dist-packages/dicom2nifti/convert_generic.py\", line 230, in dicom_to_nifti\n",
            "    common.validate_slicecount(dicom_input)\n",
            "  File \"/usr/local/lib/python3.10/dist-packages/dicom2nifti/common.py\", line 1023, in validate_slicecount\n",
            "    raise ConversionValidationError('TOO_FEW_SLICES/LOCALIZER')\n",
            "dicom2nifti.exceptions.ConversionValidationError: TOO_FEW_SLICES/LOCALIZER\n",
            "WARNING:dicom2nifti.common:At least 3 slices are needed for correct conversion\n",
            "WARNING:dicom2nifti.common:---------------------------------------------------------\n",
            "Traceback (most recent call last):\n",
            "  File \"/usr/local/lib/python3.10/dist-packages/dicom2nifti/convert_dir.py\", line 85, in convert_directory\n",
            "    convert_dicom.dicom_array_to_nifti(dicom_input, nifti_file, reorient)\n",
            "  File \"/usr/local/lib/python3.10/dist-packages/dicom2nifti/convert_dicom.py\", line 118, in dicom_array_to_nifti\n",
            "    results = convert_generic.dicom_to_nifti(dicom_list, output_file)\n",
            "  File \"/usr/local/lib/python3.10/dist-packages/dicom2nifti/convert_generic.py\", line 230, in dicom_to_nifti\n",
            "    common.validate_slicecount(dicom_input)\n",
            "  File \"/usr/local/lib/python3.10/dist-packages/dicom2nifti/common.py\", line 1023, in validate_slicecount\n",
            "    raise ConversionValidationError('TOO_FEW_SLICES/LOCALIZER')\n",
            "dicom2nifti.exceptions.ConversionValidationError: TOO_FEW_SLICES/LOCALIZER\n",
            "WARNING:dicom2nifti.common:At least 3 slices are needed for correct conversion\n",
            "WARNING:dicom2nifti.common:---------------------------------------------------------\n",
            "Traceback (most recent call last):\n",
            "  File \"/usr/local/lib/python3.10/dist-packages/dicom2nifti/convert_dir.py\", line 85, in convert_directory\n",
            "    convert_dicom.dicom_array_to_nifti(dicom_input, nifti_file, reorient)\n",
            "  File \"/usr/local/lib/python3.10/dist-packages/dicom2nifti/convert_dicom.py\", line 118, in dicom_array_to_nifti\n",
            "    results = convert_generic.dicom_to_nifti(dicom_list, output_file)\n",
            "  File \"/usr/local/lib/python3.10/dist-packages/dicom2nifti/convert_generic.py\", line 230, in dicom_to_nifti\n",
            "    common.validate_slicecount(dicom_input)\n",
            "  File \"/usr/local/lib/python3.10/dist-packages/dicom2nifti/common.py\", line 1023, in validate_slicecount\n",
            "    raise ConversionValidationError('TOO_FEW_SLICES/LOCALIZER')\n",
            "dicom2nifti.exceptions.ConversionValidationError: TOO_FEW_SLICES/LOCALIZER\n",
            "WARNING:dicom2nifti.common:At least 3 slices are needed for correct conversion\n",
            "WARNING:dicom2nifti.common:---------------------------------------------------------\n",
            "Traceback (most recent call last):\n",
            "  File \"/usr/local/lib/python3.10/dist-packages/dicom2nifti/convert_dir.py\", line 85, in convert_directory\n",
            "    convert_dicom.dicom_array_to_nifti(dicom_input, nifti_file, reorient)\n",
            "  File \"/usr/local/lib/python3.10/dist-packages/dicom2nifti/convert_dicom.py\", line 118, in dicom_array_to_nifti\n",
            "    results = convert_generic.dicom_to_nifti(dicom_list, output_file)\n",
            "  File \"/usr/local/lib/python3.10/dist-packages/dicom2nifti/convert_generic.py\", line 230, in dicom_to_nifti\n",
            "    common.validate_slicecount(dicom_input)\n",
            "  File \"/usr/local/lib/python3.10/dist-packages/dicom2nifti/common.py\", line 1023, in validate_slicecount\n",
            "    raise ConversionValidationError('TOO_FEW_SLICES/LOCALIZER')\n",
            "dicom2nifti.exceptions.ConversionValidationError: TOO_FEW_SLICES/LOCALIZER\n",
            "WARNING:dicom2nifti.common:At least 3 slices are needed for correct conversion\n",
            "WARNING:dicom2nifti.common:---------------------------------------------------------\n",
            "Traceback (most recent call last):\n",
            "  File \"/usr/local/lib/python3.10/dist-packages/dicom2nifti/convert_dir.py\", line 85, in convert_directory\n",
            "    convert_dicom.dicom_array_to_nifti(dicom_input, nifti_file, reorient)\n",
            "  File \"/usr/local/lib/python3.10/dist-packages/dicom2nifti/convert_dicom.py\", line 118, in dicom_array_to_nifti\n",
            "    results = convert_generic.dicom_to_nifti(dicom_list, output_file)\n",
            "  File \"/usr/local/lib/python3.10/dist-packages/dicom2nifti/convert_generic.py\", line 230, in dicom_to_nifti\n",
            "    common.validate_slicecount(dicom_input)\n",
            "  File \"/usr/local/lib/python3.10/dist-packages/dicom2nifti/common.py\", line 1023, in validate_slicecount\n",
            "    raise ConversionValidationError('TOO_FEW_SLICES/LOCALIZER')\n",
            "dicom2nifti.exceptions.ConversionValidationError: TOO_FEW_SLICES/LOCALIZER\n",
            "WARNING:dicom2nifti.common:At least 3 slices are needed for correct conversion\n",
            "WARNING:dicom2nifti.common:---------------------------------------------------------\n",
            "Traceback (most recent call last):\n",
            "  File \"/usr/local/lib/python3.10/dist-packages/dicom2nifti/convert_dir.py\", line 85, in convert_directory\n",
            "    convert_dicom.dicom_array_to_nifti(dicom_input, nifti_file, reorient)\n",
            "  File \"/usr/local/lib/python3.10/dist-packages/dicom2nifti/convert_dicom.py\", line 118, in dicom_array_to_nifti\n",
            "    results = convert_generic.dicom_to_nifti(dicom_list, output_file)\n",
            "  File \"/usr/local/lib/python3.10/dist-packages/dicom2nifti/convert_generic.py\", line 230, in dicom_to_nifti\n",
            "    common.validate_slicecount(dicom_input)\n",
            "  File \"/usr/local/lib/python3.10/dist-packages/dicom2nifti/common.py\", line 1023, in validate_slicecount\n",
            "    raise ConversionValidationError('TOO_FEW_SLICES/LOCALIZER')\n",
            "dicom2nifti.exceptions.ConversionValidationError: TOO_FEW_SLICES/LOCALIZER\n",
            "WARNING:dicom2nifti.common:At least 3 slices are needed for correct conversion\n",
            "WARNING:dicom2nifti.common:---------------------------------------------------------\n",
            "Traceback (most recent call last):\n",
            "  File \"/usr/local/lib/python3.10/dist-packages/dicom2nifti/convert_dir.py\", line 85, in convert_directory\n",
            "    convert_dicom.dicom_array_to_nifti(dicom_input, nifti_file, reorient)\n",
            "  File \"/usr/local/lib/python3.10/dist-packages/dicom2nifti/convert_dicom.py\", line 118, in dicom_array_to_nifti\n",
            "    results = convert_generic.dicom_to_nifti(dicom_list, output_file)\n",
            "  File \"/usr/local/lib/python3.10/dist-packages/dicom2nifti/convert_generic.py\", line 230, in dicom_to_nifti\n",
            "    common.validate_slicecount(dicom_input)\n",
            "  File \"/usr/local/lib/python3.10/dist-packages/dicom2nifti/common.py\", line 1023, in validate_slicecount\n",
            "    raise ConversionValidationError('TOO_FEW_SLICES/LOCALIZER')\n",
            "dicom2nifti.exceptions.ConversionValidationError: TOO_FEW_SLICES/LOCALIZER\n",
            "WARNING:dicom2nifti.common:At least 3 slices are needed for correct conversion\n",
            "WARNING:dicom2nifti.common:---------------------------------------------------------\n",
            "Traceback (most recent call last):\n",
            "  File \"/usr/local/lib/python3.10/dist-packages/dicom2nifti/convert_dir.py\", line 85, in convert_directory\n",
            "    convert_dicom.dicom_array_to_nifti(dicom_input, nifti_file, reorient)\n",
            "  File \"/usr/local/lib/python3.10/dist-packages/dicom2nifti/convert_dicom.py\", line 118, in dicom_array_to_nifti\n",
            "    results = convert_generic.dicom_to_nifti(dicom_list, output_file)\n",
            "  File \"/usr/local/lib/python3.10/dist-packages/dicom2nifti/convert_generic.py\", line 230, in dicom_to_nifti\n",
            "    common.validate_slicecount(dicom_input)\n",
            "  File \"/usr/local/lib/python3.10/dist-packages/dicom2nifti/common.py\", line 1023, in validate_slicecount\n",
            "    raise ConversionValidationError('TOO_FEW_SLICES/LOCALIZER')\n",
            "dicom2nifti.exceptions.ConversionValidationError: TOO_FEW_SLICES/LOCALIZER\n",
            "WARNING:dicom2nifti.common:At least 3 slices are needed for correct conversion\n",
            "WARNING:dicom2nifti.common:---------------------------------------------------------\n",
            "Traceback (most recent call last):\n",
            "  File \"/usr/local/lib/python3.10/dist-packages/dicom2nifti/convert_dir.py\", line 85, in convert_directory\n",
            "    convert_dicom.dicom_array_to_nifti(dicom_input, nifti_file, reorient)\n",
            "  File \"/usr/local/lib/python3.10/dist-packages/dicom2nifti/convert_dicom.py\", line 118, in dicom_array_to_nifti\n",
            "    results = convert_generic.dicom_to_nifti(dicom_list, output_file)\n",
            "  File \"/usr/local/lib/python3.10/dist-packages/dicom2nifti/convert_generic.py\", line 230, in dicom_to_nifti\n",
            "    common.validate_slicecount(dicom_input)\n",
            "  File \"/usr/local/lib/python3.10/dist-packages/dicom2nifti/common.py\", line 1023, in validate_slicecount\n",
            "    raise ConversionValidationError('TOO_FEW_SLICES/LOCALIZER')\n",
            "dicom2nifti.exceptions.ConversionValidationError: TOO_FEW_SLICES/LOCALIZER\n",
            "WARNING:dicom2nifti.common:At least 3 slices are needed for correct conversion\n",
            "WARNING:dicom2nifti.common:---------------------------------------------------------\n",
            "Traceback (most recent call last):\n",
            "  File \"/usr/local/lib/python3.10/dist-packages/dicom2nifti/convert_dir.py\", line 85, in convert_directory\n",
            "    convert_dicom.dicom_array_to_nifti(dicom_input, nifti_file, reorient)\n",
            "  File \"/usr/local/lib/python3.10/dist-packages/dicom2nifti/convert_dicom.py\", line 118, in dicom_array_to_nifti\n",
            "    results = convert_generic.dicom_to_nifti(dicom_list, output_file)\n",
            "  File \"/usr/local/lib/python3.10/dist-packages/dicom2nifti/convert_generic.py\", line 230, in dicom_to_nifti\n",
            "    common.validate_slicecount(dicom_input)\n",
            "  File \"/usr/local/lib/python3.10/dist-packages/dicom2nifti/common.py\", line 1023, in validate_slicecount\n",
            "    raise ConversionValidationError('TOO_FEW_SLICES/LOCALIZER')\n",
            "dicom2nifti.exceptions.ConversionValidationError: TOO_FEW_SLICES/LOCALIZER\n",
            "WARNING:dicom2nifti.common:At least 3 slices are needed for correct conversion\n",
            "WARNING:dicom2nifti.common:---------------------------------------------------------\n",
            "Traceback (most recent call last):\n",
            "  File \"/usr/local/lib/python3.10/dist-packages/dicom2nifti/convert_dir.py\", line 85, in convert_directory\n",
            "    convert_dicom.dicom_array_to_nifti(dicom_input, nifti_file, reorient)\n",
            "  File \"/usr/local/lib/python3.10/dist-packages/dicom2nifti/convert_dicom.py\", line 118, in dicom_array_to_nifti\n",
            "    results = convert_generic.dicom_to_nifti(dicom_list, output_file)\n",
            "  File \"/usr/local/lib/python3.10/dist-packages/dicom2nifti/convert_generic.py\", line 230, in dicom_to_nifti\n",
            "    common.validate_slicecount(dicom_input)\n",
            "  File \"/usr/local/lib/python3.10/dist-packages/dicom2nifti/common.py\", line 1023, in validate_slicecount\n",
            "    raise ConversionValidationError('TOO_FEW_SLICES/LOCALIZER')\n",
            "dicom2nifti.exceptions.ConversionValidationError: TOO_FEW_SLICES/LOCALIZER\n",
            "WARNING:dicom2nifti.common:At least 3 slices are needed for correct conversion\n",
            "WARNING:dicom2nifti.common:---------------------------------------------------------\n",
            "Traceback (most recent call last):\n",
            "  File \"/usr/local/lib/python3.10/dist-packages/dicom2nifti/convert_dir.py\", line 85, in convert_directory\n",
            "    convert_dicom.dicom_array_to_nifti(dicom_input, nifti_file, reorient)\n",
            "  File \"/usr/local/lib/python3.10/dist-packages/dicom2nifti/convert_dicom.py\", line 118, in dicom_array_to_nifti\n",
            "    results = convert_generic.dicom_to_nifti(dicom_list, output_file)\n",
            "  File \"/usr/local/lib/python3.10/dist-packages/dicom2nifti/convert_generic.py\", line 230, in dicom_to_nifti\n",
            "    common.validate_slicecount(dicom_input)\n",
            "  File \"/usr/local/lib/python3.10/dist-packages/dicom2nifti/common.py\", line 1023, in validate_slicecount\n",
            "    raise ConversionValidationError('TOO_FEW_SLICES/LOCALIZER')\n",
            "dicom2nifti.exceptions.ConversionValidationError: TOO_FEW_SLICES/LOCALIZER\n",
            "WARNING:dicom2nifti.common:At least 3 slices are needed for correct conversion\n",
            "WARNING:dicom2nifti.common:---------------------------------------------------------\n",
            "Traceback (most recent call last):\n",
            "  File \"/usr/local/lib/python3.10/dist-packages/dicom2nifti/convert_dir.py\", line 85, in convert_directory\n",
            "    convert_dicom.dicom_array_to_nifti(dicom_input, nifti_file, reorient)\n",
            "  File \"/usr/local/lib/python3.10/dist-packages/dicom2nifti/convert_dicom.py\", line 118, in dicom_array_to_nifti\n",
            "    results = convert_generic.dicom_to_nifti(dicom_list, output_file)\n",
            "  File \"/usr/local/lib/python3.10/dist-packages/dicom2nifti/convert_generic.py\", line 230, in dicom_to_nifti\n",
            "    common.validate_slicecount(dicom_input)\n",
            "  File \"/usr/local/lib/python3.10/dist-packages/dicom2nifti/common.py\", line 1023, in validate_slicecount\n",
            "    raise ConversionValidationError('TOO_FEW_SLICES/LOCALIZER')\n",
            "dicom2nifti.exceptions.ConversionValidationError: TOO_FEW_SLICES/LOCALIZER\n",
            "WARNING:dicom2nifti.common:At least 3 slices are needed for correct conversion\n",
            "WARNING:dicom2nifti.common:---------------------------------------------------------\n",
            "Traceback (most recent call last):\n",
            "  File \"/usr/local/lib/python3.10/dist-packages/dicom2nifti/convert_dir.py\", line 85, in convert_directory\n",
            "    convert_dicom.dicom_array_to_nifti(dicom_input, nifti_file, reorient)\n",
            "  File \"/usr/local/lib/python3.10/dist-packages/dicom2nifti/convert_dicom.py\", line 118, in dicom_array_to_nifti\n",
            "    results = convert_generic.dicom_to_nifti(dicom_list, output_file)\n",
            "  File \"/usr/local/lib/python3.10/dist-packages/dicom2nifti/convert_generic.py\", line 230, in dicom_to_nifti\n",
            "    common.validate_slicecount(dicom_input)\n",
            "  File \"/usr/local/lib/python3.10/dist-packages/dicom2nifti/common.py\", line 1023, in validate_slicecount\n",
            "    raise ConversionValidationError('TOO_FEW_SLICES/LOCALIZER')\n",
            "dicom2nifti.exceptions.ConversionValidationError: TOO_FEW_SLICES/LOCALIZER\n",
            "WARNING:dicom2nifti.common:At least 3 slices are needed for correct conversion\n",
            "WARNING:dicom2nifti.common:---------------------------------------------------------\n",
            "Traceback (most recent call last):\n",
            "  File \"/usr/local/lib/python3.10/dist-packages/dicom2nifti/convert_dir.py\", line 85, in convert_directory\n",
            "    convert_dicom.dicom_array_to_nifti(dicom_input, nifti_file, reorient)\n",
            "  File \"/usr/local/lib/python3.10/dist-packages/dicom2nifti/convert_dicom.py\", line 118, in dicom_array_to_nifti\n",
            "    results = convert_generic.dicom_to_nifti(dicom_list, output_file)\n",
            "  File \"/usr/local/lib/python3.10/dist-packages/dicom2nifti/convert_generic.py\", line 230, in dicom_to_nifti\n",
            "    common.validate_slicecount(dicom_input)\n",
            "  File \"/usr/local/lib/python3.10/dist-packages/dicom2nifti/common.py\", line 1023, in validate_slicecount\n",
            "    raise ConversionValidationError('TOO_FEW_SLICES/LOCALIZER')\n",
            "dicom2nifti.exceptions.ConversionValidationError: TOO_FEW_SLICES/LOCALIZER\n",
            "WARNING:dicom2nifti.common:At least 3 slices are needed for correct conversion\n",
            "WARNING:dicom2nifti.common:---------------------------------------------------------\n",
            "Traceback (most recent call last):\n",
            "  File \"/usr/local/lib/python3.10/dist-packages/dicom2nifti/convert_dir.py\", line 85, in convert_directory\n",
            "    convert_dicom.dicom_array_to_nifti(dicom_input, nifti_file, reorient)\n",
            "  File \"/usr/local/lib/python3.10/dist-packages/dicom2nifti/convert_dicom.py\", line 118, in dicom_array_to_nifti\n",
            "    results = convert_generic.dicom_to_nifti(dicom_list, output_file)\n",
            "  File \"/usr/local/lib/python3.10/dist-packages/dicom2nifti/convert_generic.py\", line 230, in dicom_to_nifti\n",
            "    common.validate_slicecount(dicom_input)\n",
            "  File \"/usr/local/lib/python3.10/dist-packages/dicom2nifti/common.py\", line 1023, in validate_slicecount\n",
            "    raise ConversionValidationError('TOO_FEW_SLICES/LOCALIZER')\n",
            "dicom2nifti.exceptions.ConversionValidationError: TOO_FEW_SLICES/LOCALIZER\n",
            "WARNING:dicom2nifti.common:At least 3 slices are needed for correct conversion\n",
            "WARNING:dicom2nifti.common:---------------------------------------------------------\n",
            "Traceback (most recent call last):\n",
            "  File \"/usr/local/lib/python3.10/dist-packages/dicom2nifti/convert_dir.py\", line 85, in convert_directory\n",
            "    convert_dicom.dicom_array_to_nifti(dicom_input, nifti_file, reorient)\n",
            "  File \"/usr/local/lib/python3.10/dist-packages/dicom2nifti/convert_dicom.py\", line 118, in dicom_array_to_nifti\n",
            "    results = convert_generic.dicom_to_nifti(dicom_list, output_file)\n",
            "  File \"/usr/local/lib/python3.10/dist-packages/dicom2nifti/convert_generic.py\", line 230, in dicom_to_nifti\n",
            "    common.validate_slicecount(dicom_input)\n",
            "  File \"/usr/local/lib/python3.10/dist-packages/dicom2nifti/common.py\", line 1023, in validate_slicecount\n",
            "    raise ConversionValidationError('TOO_FEW_SLICES/LOCALIZER')\n",
            "dicom2nifti.exceptions.ConversionValidationError: TOO_FEW_SLICES/LOCALIZER\n",
            "WARNING:dicom2nifti.common:At least 3 slices are needed for correct conversion\n",
            "WARNING:dicom2nifti.common:---------------------------------------------------------\n",
            "Traceback (most recent call last):\n",
            "  File \"/usr/local/lib/python3.10/dist-packages/dicom2nifti/convert_dir.py\", line 85, in convert_directory\n",
            "    convert_dicom.dicom_array_to_nifti(dicom_input, nifti_file, reorient)\n",
            "  File \"/usr/local/lib/python3.10/dist-packages/dicom2nifti/convert_dicom.py\", line 118, in dicom_array_to_nifti\n",
            "    results = convert_generic.dicom_to_nifti(dicom_list, output_file)\n",
            "  File \"/usr/local/lib/python3.10/dist-packages/dicom2nifti/convert_generic.py\", line 230, in dicom_to_nifti\n",
            "    common.validate_slicecount(dicom_input)\n",
            "  File \"/usr/local/lib/python3.10/dist-packages/dicom2nifti/common.py\", line 1023, in validate_slicecount\n",
            "    raise ConversionValidationError('TOO_FEW_SLICES/LOCALIZER')\n",
            "dicom2nifti.exceptions.ConversionValidationError: TOO_FEW_SLICES/LOCALIZER\n",
            "WARNING:dicom2nifti.common:At least 3 slices are needed for correct conversion\n",
            "WARNING:dicom2nifti.common:---------------------------------------------------------\n",
            "Traceback (most recent call last):\n",
            "  File \"/usr/local/lib/python3.10/dist-packages/dicom2nifti/convert_dir.py\", line 85, in convert_directory\n",
            "    convert_dicom.dicom_array_to_nifti(dicom_input, nifti_file, reorient)\n",
            "  File \"/usr/local/lib/python3.10/dist-packages/dicom2nifti/convert_dicom.py\", line 118, in dicom_array_to_nifti\n",
            "    results = convert_generic.dicom_to_nifti(dicom_list, output_file)\n",
            "  File \"/usr/local/lib/python3.10/dist-packages/dicom2nifti/convert_generic.py\", line 230, in dicom_to_nifti\n",
            "    common.validate_slicecount(dicom_input)\n",
            "  File \"/usr/local/lib/python3.10/dist-packages/dicom2nifti/common.py\", line 1023, in validate_slicecount\n",
            "    raise ConversionValidationError('TOO_FEW_SLICES/LOCALIZER')\n",
            "dicom2nifti.exceptions.ConversionValidationError: TOO_FEW_SLICES/LOCALIZER\n",
            "WARNING:dicom2nifti.common:At least 3 slices are needed for correct conversion\n",
            "WARNING:dicom2nifti.common:---------------------------------------------------------\n",
            "Traceback (most recent call last):\n",
            "  File \"/usr/local/lib/python3.10/dist-packages/dicom2nifti/convert_dir.py\", line 85, in convert_directory\n",
            "    convert_dicom.dicom_array_to_nifti(dicom_input, nifti_file, reorient)\n",
            "  File \"/usr/local/lib/python3.10/dist-packages/dicom2nifti/convert_dicom.py\", line 118, in dicom_array_to_nifti\n",
            "    results = convert_generic.dicom_to_nifti(dicom_list, output_file)\n",
            "  File \"/usr/local/lib/python3.10/dist-packages/dicom2nifti/convert_generic.py\", line 230, in dicom_to_nifti\n",
            "    common.validate_slicecount(dicom_input)\n",
            "  File \"/usr/local/lib/python3.10/dist-packages/dicom2nifti/common.py\", line 1023, in validate_slicecount\n",
            "    raise ConversionValidationError('TOO_FEW_SLICES/LOCALIZER')\n",
            "dicom2nifti.exceptions.ConversionValidationError: TOO_FEW_SLICES/LOCALIZER\n",
            "WARNING:dicom2nifti.common:At least 3 slices are needed for correct conversion\n",
            "WARNING:dicom2nifti.common:---------------------------------------------------------\n",
            "Traceback (most recent call last):\n",
            "  File \"/usr/local/lib/python3.10/dist-packages/dicom2nifti/convert_dir.py\", line 85, in convert_directory\n",
            "    convert_dicom.dicom_array_to_nifti(dicom_input, nifti_file, reorient)\n",
            "  File \"/usr/local/lib/python3.10/dist-packages/dicom2nifti/convert_dicom.py\", line 118, in dicom_array_to_nifti\n",
            "    results = convert_generic.dicom_to_nifti(dicom_list, output_file)\n",
            "  File \"/usr/local/lib/python3.10/dist-packages/dicom2nifti/convert_generic.py\", line 230, in dicom_to_nifti\n",
            "    common.validate_slicecount(dicom_input)\n",
            "  File \"/usr/local/lib/python3.10/dist-packages/dicom2nifti/common.py\", line 1023, in validate_slicecount\n",
            "    raise ConversionValidationError('TOO_FEW_SLICES/LOCALIZER')\n",
            "dicom2nifti.exceptions.ConversionValidationError: TOO_FEW_SLICES/LOCALIZER\n",
            "WARNING:dicom2nifti.common:At least 3 slices are needed for correct conversion\n",
            "WARNING:dicom2nifti.common:---------------------------------------------------------\n",
            "Traceback (most recent call last):\n",
            "  File \"/usr/local/lib/python3.10/dist-packages/dicom2nifti/convert_dir.py\", line 85, in convert_directory\n",
            "    convert_dicom.dicom_array_to_nifti(dicom_input, nifti_file, reorient)\n",
            "  File \"/usr/local/lib/python3.10/dist-packages/dicom2nifti/convert_dicom.py\", line 118, in dicom_array_to_nifti\n",
            "    results = convert_generic.dicom_to_nifti(dicom_list, output_file)\n",
            "  File \"/usr/local/lib/python3.10/dist-packages/dicom2nifti/convert_generic.py\", line 230, in dicom_to_nifti\n",
            "    common.validate_slicecount(dicom_input)\n",
            "  File \"/usr/local/lib/python3.10/dist-packages/dicom2nifti/common.py\", line 1023, in validate_slicecount\n",
            "    raise ConversionValidationError('TOO_FEW_SLICES/LOCALIZER')\n",
            "dicom2nifti.exceptions.ConversionValidationError: TOO_FEW_SLICES/LOCALIZER\n",
            "WARNING:dicom2nifti.common:At least 3 slices are needed for correct conversion\n",
            "WARNING:dicom2nifti.common:---------------------------------------------------------\n",
            "Traceback (most recent call last):\n",
            "  File \"/usr/local/lib/python3.10/dist-packages/dicom2nifti/convert_dir.py\", line 85, in convert_directory\n",
            "    convert_dicom.dicom_array_to_nifti(dicom_input, nifti_file, reorient)\n",
            "  File \"/usr/local/lib/python3.10/dist-packages/dicom2nifti/convert_dicom.py\", line 118, in dicom_array_to_nifti\n",
            "    results = convert_generic.dicom_to_nifti(dicom_list, output_file)\n",
            "  File \"/usr/local/lib/python3.10/dist-packages/dicom2nifti/convert_generic.py\", line 230, in dicom_to_nifti\n",
            "    common.validate_slicecount(dicom_input)\n",
            "  File \"/usr/local/lib/python3.10/dist-packages/dicom2nifti/common.py\", line 1023, in validate_slicecount\n",
            "    raise ConversionValidationError('TOO_FEW_SLICES/LOCALIZER')\n",
            "dicom2nifti.exceptions.ConversionValidationError: TOO_FEW_SLICES/LOCALIZER\n",
            "WARNING:dicom2nifti.common:At least 3 slices are needed for correct conversion\n",
            "WARNING:dicom2nifti.common:---------------------------------------------------------\n",
            "Traceback (most recent call last):\n",
            "  File \"/usr/local/lib/python3.10/dist-packages/dicom2nifti/convert_dir.py\", line 85, in convert_directory\n",
            "    convert_dicom.dicom_array_to_nifti(dicom_input, nifti_file, reorient)\n",
            "  File \"/usr/local/lib/python3.10/dist-packages/dicom2nifti/convert_dicom.py\", line 118, in dicom_array_to_nifti\n",
            "    results = convert_generic.dicom_to_nifti(dicom_list, output_file)\n",
            "  File \"/usr/local/lib/python3.10/dist-packages/dicom2nifti/convert_generic.py\", line 230, in dicom_to_nifti\n",
            "    common.validate_slicecount(dicom_input)\n",
            "  File \"/usr/local/lib/python3.10/dist-packages/dicom2nifti/common.py\", line 1023, in validate_slicecount\n",
            "    raise ConversionValidationError('TOO_FEW_SLICES/LOCALIZER')\n",
            "dicom2nifti.exceptions.ConversionValidationError: TOO_FEW_SLICES/LOCALIZER\n",
            "WARNING:dicom2nifti.common:At least 3 slices are needed for correct conversion\n",
            "WARNING:dicom2nifti.common:---------------------------------------------------------\n",
            "Traceback (most recent call last):\n",
            "  File \"/usr/local/lib/python3.10/dist-packages/dicom2nifti/convert_dir.py\", line 85, in convert_directory\n",
            "    convert_dicom.dicom_array_to_nifti(dicom_input, nifti_file, reorient)\n",
            "  File \"/usr/local/lib/python3.10/dist-packages/dicom2nifti/convert_dicom.py\", line 118, in dicom_array_to_nifti\n",
            "    results = convert_generic.dicom_to_nifti(dicom_list, output_file)\n",
            "  File \"/usr/local/lib/python3.10/dist-packages/dicom2nifti/convert_generic.py\", line 230, in dicom_to_nifti\n",
            "    common.validate_slicecount(dicom_input)\n",
            "  File \"/usr/local/lib/python3.10/dist-packages/dicom2nifti/common.py\", line 1023, in validate_slicecount\n",
            "    raise ConversionValidationError('TOO_FEW_SLICES/LOCALIZER')\n",
            "dicom2nifti.exceptions.ConversionValidationError: TOO_FEW_SLICES/LOCALIZER\n",
            "WARNING:dicom2nifti.convert_generic:Removing duplicate slice from series\n",
            "WARNING:dicom2nifti.common:At least 3 slices are needed for correct conversion\n",
            "WARNING:dicom2nifti.common:---------------------------------------------------------\n",
            "Traceback (most recent call last):\n",
            "  File \"/usr/local/lib/python3.10/dist-packages/dicom2nifti/convert_dir.py\", line 85, in convert_directory\n",
            "    convert_dicom.dicom_array_to_nifti(dicom_input, nifti_file, reorient)\n",
            "  File \"/usr/local/lib/python3.10/dist-packages/dicom2nifti/convert_dicom.py\", line 118, in dicom_array_to_nifti\n",
            "    results = convert_generic.dicom_to_nifti(dicom_list, output_file)\n",
            "  File \"/usr/local/lib/python3.10/dist-packages/dicom2nifti/convert_generic.py\", line 230, in dicom_to_nifti\n",
            "    common.validate_slicecount(dicom_input)\n",
            "  File \"/usr/local/lib/python3.10/dist-packages/dicom2nifti/common.py\", line 1023, in validate_slicecount\n",
            "    raise ConversionValidationError('TOO_FEW_SLICES/LOCALIZER')\n",
            "dicom2nifti.exceptions.ConversionValidationError: TOO_FEW_SLICES/LOCALIZER\n",
            "WARNING:dicom2nifti.common:At least 3 slices are needed for correct conversion\n",
            "WARNING:dicom2nifti.common:---------------------------------------------------------\n",
            "Traceback (most recent call last):\n",
            "  File \"/usr/local/lib/python3.10/dist-packages/dicom2nifti/convert_dir.py\", line 85, in convert_directory\n",
            "    convert_dicom.dicom_array_to_nifti(dicom_input, nifti_file, reorient)\n",
            "  File \"/usr/local/lib/python3.10/dist-packages/dicom2nifti/convert_dicom.py\", line 118, in dicom_array_to_nifti\n",
            "    results = convert_generic.dicom_to_nifti(dicom_list, output_file)\n",
            "  File \"/usr/local/lib/python3.10/dist-packages/dicom2nifti/convert_generic.py\", line 230, in dicom_to_nifti\n",
            "    common.validate_slicecount(dicom_input)\n",
            "  File \"/usr/local/lib/python3.10/dist-packages/dicom2nifti/common.py\", line 1023, in validate_slicecount\n",
            "    raise ConversionValidationError('TOO_FEW_SLICES/LOCALIZER')\n",
            "dicom2nifti.exceptions.ConversionValidationError: TOO_FEW_SLICES/LOCALIZER\n",
            "WARNING:dicom2nifti.common:At least 3 slices are needed for correct conversion\n",
            "WARNING:dicom2nifti.common:---------------------------------------------------------\n",
            "Traceback (most recent call last):\n",
            "  File \"/usr/local/lib/python3.10/dist-packages/dicom2nifti/convert_dir.py\", line 85, in convert_directory\n",
            "    convert_dicom.dicom_array_to_nifti(dicom_input, nifti_file, reorient)\n",
            "  File \"/usr/local/lib/python3.10/dist-packages/dicom2nifti/convert_dicom.py\", line 118, in dicom_array_to_nifti\n",
            "    results = convert_generic.dicom_to_nifti(dicom_list, output_file)\n",
            "  File \"/usr/local/lib/python3.10/dist-packages/dicom2nifti/convert_generic.py\", line 230, in dicom_to_nifti\n",
            "    common.validate_slicecount(dicom_input)\n",
            "  File \"/usr/local/lib/python3.10/dist-packages/dicom2nifti/common.py\", line 1023, in validate_slicecount\n",
            "    raise ConversionValidationError('TOO_FEW_SLICES/LOCALIZER')\n",
            "dicom2nifti.exceptions.ConversionValidationError: TOO_FEW_SLICES/LOCALIZER\n",
            "WARNING:dicom2nifti.common:At least 3 slices are needed for correct conversion\n",
            "WARNING:dicom2nifti.common:---------------------------------------------------------\n",
            "Traceback (most recent call last):\n",
            "  File \"/usr/local/lib/python3.10/dist-packages/dicom2nifti/convert_dir.py\", line 85, in convert_directory\n",
            "    convert_dicom.dicom_array_to_nifti(dicom_input, nifti_file, reorient)\n",
            "  File \"/usr/local/lib/python3.10/dist-packages/dicom2nifti/convert_dicom.py\", line 118, in dicom_array_to_nifti\n",
            "    results = convert_generic.dicom_to_nifti(dicom_list, output_file)\n",
            "  File \"/usr/local/lib/python3.10/dist-packages/dicom2nifti/convert_generic.py\", line 230, in dicom_to_nifti\n",
            "    common.validate_slicecount(dicom_input)\n",
            "  File \"/usr/local/lib/python3.10/dist-packages/dicom2nifti/common.py\", line 1023, in validate_slicecount\n",
            "    raise ConversionValidationError('TOO_FEW_SLICES/LOCALIZER')\n",
            "dicom2nifti.exceptions.ConversionValidationError: TOO_FEW_SLICES/LOCALIZER\n",
            "WARNING:dicom2nifti.common:At least 3 slices are needed for correct conversion\n",
            "WARNING:dicom2nifti.common:---------------------------------------------------------\n",
            "Traceback (most recent call last):\n",
            "  File \"/usr/local/lib/python3.10/dist-packages/dicom2nifti/convert_dir.py\", line 85, in convert_directory\n",
            "    convert_dicom.dicom_array_to_nifti(dicom_input, nifti_file, reorient)\n",
            "  File \"/usr/local/lib/python3.10/dist-packages/dicom2nifti/convert_dicom.py\", line 118, in dicom_array_to_nifti\n",
            "    results = convert_generic.dicom_to_nifti(dicom_list, output_file)\n",
            "  File \"/usr/local/lib/python3.10/dist-packages/dicom2nifti/convert_generic.py\", line 230, in dicom_to_nifti\n",
            "    common.validate_slicecount(dicom_input)\n",
            "  File \"/usr/local/lib/python3.10/dist-packages/dicom2nifti/common.py\", line 1023, in validate_slicecount\n",
            "    raise ConversionValidationError('TOO_FEW_SLICES/LOCALIZER')\n",
            "dicom2nifti.exceptions.ConversionValidationError: TOO_FEW_SLICES/LOCALIZER\n",
            "WARNING:dicom2nifti.common:At least 3 slices are needed for correct conversion\n",
            "WARNING:dicom2nifti.common:---------------------------------------------------------\n",
            "Traceback (most recent call last):\n",
            "  File \"/usr/local/lib/python3.10/dist-packages/dicom2nifti/convert_dir.py\", line 85, in convert_directory\n",
            "    convert_dicom.dicom_array_to_nifti(dicom_input, nifti_file, reorient)\n",
            "  File \"/usr/local/lib/python3.10/dist-packages/dicom2nifti/convert_dicom.py\", line 118, in dicom_array_to_nifti\n",
            "    results = convert_generic.dicom_to_nifti(dicom_list, output_file)\n",
            "  File \"/usr/local/lib/python3.10/dist-packages/dicom2nifti/convert_generic.py\", line 230, in dicom_to_nifti\n",
            "    common.validate_slicecount(dicom_input)\n",
            "  File \"/usr/local/lib/python3.10/dist-packages/dicom2nifti/common.py\", line 1023, in validate_slicecount\n",
            "    raise ConversionValidationError('TOO_FEW_SLICES/LOCALIZER')\n",
            "dicom2nifti.exceptions.ConversionValidationError: TOO_FEW_SLICES/LOCALIZER\n",
            "WARNING:dicom2nifti.common:At least 3 slices are needed for correct conversion\n",
            "WARNING:dicom2nifti.common:---------------------------------------------------------\n",
            "Traceback (most recent call last):\n",
            "  File \"/usr/local/lib/python3.10/dist-packages/dicom2nifti/convert_dir.py\", line 85, in convert_directory\n",
            "    convert_dicom.dicom_array_to_nifti(dicom_input, nifti_file, reorient)\n",
            "  File \"/usr/local/lib/python3.10/dist-packages/dicom2nifti/convert_dicom.py\", line 118, in dicom_array_to_nifti\n",
            "    results = convert_generic.dicom_to_nifti(dicom_list, output_file)\n",
            "  File \"/usr/local/lib/python3.10/dist-packages/dicom2nifti/convert_generic.py\", line 230, in dicom_to_nifti\n",
            "    common.validate_slicecount(dicom_input)\n",
            "  File \"/usr/local/lib/python3.10/dist-packages/dicom2nifti/common.py\", line 1023, in validate_slicecount\n",
            "    raise ConversionValidationError('TOO_FEW_SLICES/LOCALIZER')\n",
            "dicom2nifti.exceptions.ConversionValidationError: TOO_FEW_SLICES/LOCALIZER\n",
            "WARNING:dicom2nifti.common:At least 3 slices are needed for correct conversion\n",
            "WARNING:dicom2nifti.common:---------------------------------------------------------\n",
            "Traceback (most recent call last):\n",
            "  File \"/usr/local/lib/python3.10/dist-packages/dicom2nifti/convert_dir.py\", line 85, in convert_directory\n",
            "    convert_dicom.dicom_array_to_nifti(dicom_input, nifti_file, reorient)\n",
            "  File \"/usr/local/lib/python3.10/dist-packages/dicom2nifti/convert_dicom.py\", line 118, in dicom_array_to_nifti\n",
            "    results = convert_generic.dicom_to_nifti(dicom_list, output_file)\n",
            "  File \"/usr/local/lib/python3.10/dist-packages/dicom2nifti/convert_generic.py\", line 230, in dicom_to_nifti\n",
            "    common.validate_slicecount(dicom_input)\n",
            "  File \"/usr/local/lib/python3.10/dist-packages/dicom2nifti/common.py\", line 1023, in validate_slicecount\n",
            "    raise ConversionValidationError('TOO_FEW_SLICES/LOCALIZER')\n",
            "dicom2nifti.exceptions.ConversionValidationError: TOO_FEW_SLICES/LOCALIZER\n",
            "WARNING:dicom2nifti.common:At least 3 slices are needed for correct conversion\n",
            "WARNING:dicom2nifti.common:---------------------------------------------------------\n",
            "Traceback (most recent call last):\n",
            "  File \"/usr/local/lib/python3.10/dist-packages/dicom2nifti/convert_dir.py\", line 85, in convert_directory\n",
            "    convert_dicom.dicom_array_to_nifti(dicom_input, nifti_file, reorient)\n",
            "  File \"/usr/local/lib/python3.10/dist-packages/dicom2nifti/convert_dicom.py\", line 118, in dicom_array_to_nifti\n",
            "    results = convert_generic.dicom_to_nifti(dicom_list, output_file)\n",
            "  File \"/usr/local/lib/python3.10/dist-packages/dicom2nifti/convert_generic.py\", line 230, in dicom_to_nifti\n",
            "    common.validate_slicecount(dicom_input)\n",
            "  File \"/usr/local/lib/python3.10/dist-packages/dicom2nifti/common.py\", line 1023, in validate_slicecount\n",
            "    raise ConversionValidationError('TOO_FEW_SLICES/LOCALIZER')\n",
            "dicom2nifti.exceptions.ConversionValidationError: TOO_FEW_SLICES/LOCALIZER\n",
            "WARNING:dicom2nifti.common:At least 3 slices are needed for correct conversion\n",
            "WARNING:dicom2nifti.common:---------------------------------------------------------\n",
            "Traceback (most recent call last):\n",
            "  File \"/usr/local/lib/python3.10/dist-packages/dicom2nifti/convert_dir.py\", line 85, in convert_directory\n",
            "    convert_dicom.dicom_array_to_nifti(dicom_input, nifti_file, reorient)\n",
            "  File \"/usr/local/lib/python3.10/dist-packages/dicom2nifti/convert_dicom.py\", line 118, in dicom_array_to_nifti\n",
            "    results = convert_generic.dicom_to_nifti(dicom_list, output_file)\n",
            "  File \"/usr/local/lib/python3.10/dist-packages/dicom2nifti/convert_generic.py\", line 230, in dicom_to_nifti\n",
            "    common.validate_slicecount(dicom_input)\n",
            "  File \"/usr/local/lib/python3.10/dist-packages/dicom2nifti/common.py\", line 1023, in validate_slicecount\n",
            "    raise ConversionValidationError('TOO_FEW_SLICES/LOCALIZER')\n",
            "dicom2nifti.exceptions.ConversionValidationError: TOO_FEW_SLICES/LOCALIZER\n",
            "WARNING:dicom2nifti.common:At least 3 slices are needed for correct conversion\n",
            "WARNING:dicom2nifti.common:---------------------------------------------------------\n",
            "Traceback (most recent call last):\n",
            "  File \"/usr/local/lib/python3.10/dist-packages/dicom2nifti/convert_dir.py\", line 85, in convert_directory\n",
            "    convert_dicom.dicom_array_to_nifti(dicom_input, nifti_file, reorient)\n",
            "  File \"/usr/local/lib/python3.10/dist-packages/dicom2nifti/convert_dicom.py\", line 118, in dicom_array_to_nifti\n",
            "    results = convert_generic.dicom_to_nifti(dicom_list, output_file)\n",
            "  File \"/usr/local/lib/python3.10/dist-packages/dicom2nifti/convert_generic.py\", line 230, in dicom_to_nifti\n",
            "    common.validate_slicecount(dicom_input)\n",
            "  File \"/usr/local/lib/python3.10/dist-packages/dicom2nifti/common.py\", line 1023, in validate_slicecount\n",
            "    raise ConversionValidationError('TOO_FEW_SLICES/LOCALIZER')\n",
            "dicom2nifti.exceptions.ConversionValidationError: TOO_FEW_SLICES/LOCALIZER\n",
            "WARNING:dicom2nifti.convert_generic:Removing duplicate slice from series\n",
            "WARNING:dicom2nifti.common:At least 3 slices are needed for correct conversion\n",
            "WARNING:dicom2nifti.common:---------------------------------------------------------\n",
            "Traceback (most recent call last):\n",
            "  File \"/usr/local/lib/python3.10/dist-packages/dicom2nifti/convert_dir.py\", line 85, in convert_directory\n",
            "    convert_dicom.dicom_array_to_nifti(dicom_input, nifti_file, reorient)\n",
            "  File \"/usr/local/lib/python3.10/dist-packages/dicom2nifti/convert_dicom.py\", line 118, in dicom_array_to_nifti\n",
            "    results = convert_generic.dicom_to_nifti(dicom_list, output_file)\n",
            "  File \"/usr/local/lib/python3.10/dist-packages/dicom2nifti/convert_generic.py\", line 230, in dicom_to_nifti\n",
            "    common.validate_slicecount(dicom_input)\n",
            "  File \"/usr/local/lib/python3.10/dist-packages/dicom2nifti/common.py\", line 1023, in validate_slicecount\n",
            "    raise ConversionValidationError('TOO_FEW_SLICES/LOCALIZER')\n",
            "dicom2nifti.exceptions.ConversionValidationError: TOO_FEW_SLICES/LOCALIZER\n",
            "WARNING:dicom2nifti.common:At least 3 slices are needed for correct conversion\n",
            "WARNING:dicom2nifti.common:---------------------------------------------------------\n",
            "Traceback (most recent call last):\n",
            "  File \"/usr/local/lib/python3.10/dist-packages/dicom2nifti/convert_dir.py\", line 85, in convert_directory\n",
            "    convert_dicom.dicom_array_to_nifti(dicom_input, nifti_file, reorient)\n",
            "  File \"/usr/local/lib/python3.10/dist-packages/dicom2nifti/convert_dicom.py\", line 118, in dicom_array_to_nifti\n",
            "    results = convert_generic.dicom_to_nifti(dicom_list, output_file)\n",
            "  File \"/usr/local/lib/python3.10/dist-packages/dicom2nifti/convert_generic.py\", line 230, in dicom_to_nifti\n",
            "    common.validate_slicecount(dicom_input)\n",
            "  File \"/usr/local/lib/python3.10/dist-packages/dicom2nifti/common.py\", line 1023, in validate_slicecount\n",
            "    raise ConversionValidationError('TOO_FEW_SLICES/LOCALIZER')\n",
            "dicom2nifti.exceptions.ConversionValidationError: TOO_FEW_SLICES/LOCALIZER\n",
            "WARNING:dicom2nifti.common:At least 3 slices are needed for correct conversion\n",
            "WARNING:dicom2nifti.common:---------------------------------------------------------\n",
            "Traceback (most recent call last):\n",
            "  File \"/usr/local/lib/python3.10/dist-packages/dicom2nifti/convert_dir.py\", line 85, in convert_directory\n",
            "    convert_dicom.dicom_array_to_nifti(dicom_input, nifti_file, reorient)\n",
            "  File \"/usr/local/lib/python3.10/dist-packages/dicom2nifti/convert_dicom.py\", line 118, in dicom_array_to_nifti\n",
            "    results = convert_generic.dicom_to_nifti(dicom_list, output_file)\n",
            "  File \"/usr/local/lib/python3.10/dist-packages/dicom2nifti/convert_generic.py\", line 230, in dicom_to_nifti\n",
            "    common.validate_slicecount(dicom_input)\n",
            "  File \"/usr/local/lib/python3.10/dist-packages/dicom2nifti/common.py\", line 1023, in validate_slicecount\n",
            "    raise ConversionValidationError('TOO_FEW_SLICES/LOCALIZER')\n",
            "dicom2nifti.exceptions.ConversionValidationError: TOO_FEW_SLICES/LOCALIZER\n",
            "WARNING:dicom2nifti.common:At least 3 slices are needed for correct conversion\n",
            "WARNING:dicom2nifti.common:---------------------------------------------------------\n",
            "Traceback (most recent call last):\n",
            "  File \"/usr/local/lib/python3.10/dist-packages/dicom2nifti/convert_dir.py\", line 85, in convert_directory\n",
            "    convert_dicom.dicom_array_to_nifti(dicom_input, nifti_file, reorient)\n",
            "  File \"/usr/local/lib/python3.10/dist-packages/dicom2nifti/convert_dicom.py\", line 118, in dicom_array_to_nifti\n",
            "    results = convert_generic.dicom_to_nifti(dicom_list, output_file)\n",
            "  File \"/usr/local/lib/python3.10/dist-packages/dicom2nifti/convert_generic.py\", line 230, in dicom_to_nifti\n",
            "    common.validate_slicecount(dicom_input)\n",
            "  File \"/usr/local/lib/python3.10/dist-packages/dicom2nifti/common.py\", line 1023, in validate_slicecount\n",
            "    raise ConversionValidationError('TOO_FEW_SLICES/LOCALIZER')\n",
            "dicom2nifti.exceptions.ConversionValidationError: TOO_FEW_SLICES/LOCALIZER\n",
            "WARNING:dicom2nifti.common:At least 3 slices are needed for correct conversion\n",
            "WARNING:dicom2nifti.common:---------------------------------------------------------\n",
            "Traceback (most recent call last):\n",
            "  File \"/usr/local/lib/python3.10/dist-packages/dicom2nifti/convert_dir.py\", line 85, in convert_directory\n",
            "    convert_dicom.dicom_array_to_nifti(dicom_input, nifti_file, reorient)\n",
            "  File \"/usr/local/lib/python3.10/dist-packages/dicom2nifti/convert_dicom.py\", line 118, in dicom_array_to_nifti\n",
            "    results = convert_generic.dicom_to_nifti(dicom_list, output_file)\n",
            "  File \"/usr/local/lib/python3.10/dist-packages/dicom2nifti/convert_generic.py\", line 230, in dicom_to_nifti\n",
            "    common.validate_slicecount(dicom_input)\n",
            "  File \"/usr/local/lib/python3.10/dist-packages/dicom2nifti/common.py\", line 1023, in validate_slicecount\n",
            "    raise ConversionValidationError('TOO_FEW_SLICES/LOCALIZER')\n",
            "dicom2nifti.exceptions.ConversionValidationError: TOO_FEW_SLICES/LOCALIZER\n",
            "WARNING:dicom2nifti.common:At least 3 slices are needed for correct conversion\n",
            "WARNING:dicom2nifti.common:---------------------------------------------------------\n",
            "Traceback (most recent call last):\n",
            "  File \"/usr/local/lib/python3.10/dist-packages/dicom2nifti/convert_dir.py\", line 85, in convert_directory\n",
            "    convert_dicom.dicom_array_to_nifti(dicom_input, nifti_file, reorient)\n",
            "  File \"/usr/local/lib/python3.10/dist-packages/dicom2nifti/convert_dicom.py\", line 118, in dicom_array_to_nifti\n",
            "    results = convert_generic.dicom_to_nifti(dicom_list, output_file)\n",
            "  File \"/usr/local/lib/python3.10/dist-packages/dicom2nifti/convert_generic.py\", line 230, in dicom_to_nifti\n",
            "    common.validate_slicecount(dicom_input)\n",
            "  File \"/usr/local/lib/python3.10/dist-packages/dicom2nifti/common.py\", line 1023, in validate_slicecount\n",
            "    raise ConversionValidationError('TOO_FEW_SLICES/LOCALIZER')\n",
            "dicom2nifti.exceptions.ConversionValidationError: TOO_FEW_SLICES/LOCALIZER\n",
            "WARNING:dicom2nifti.common:At least 3 slices are needed for correct conversion\n",
            "WARNING:dicom2nifti.common:---------------------------------------------------------\n",
            "Traceback (most recent call last):\n",
            "  File \"/usr/local/lib/python3.10/dist-packages/dicom2nifti/convert_dir.py\", line 85, in convert_directory\n",
            "    convert_dicom.dicom_array_to_nifti(dicom_input, nifti_file, reorient)\n",
            "  File \"/usr/local/lib/python3.10/dist-packages/dicom2nifti/convert_dicom.py\", line 118, in dicom_array_to_nifti\n",
            "    results = convert_generic.dicom_to_nifti(dicom_list, output_file)\n",
            "  File \"/usr/local/lib/python3.10/dist-packages/dicom2nifti/convert_generic.py\", line 230, in dicom_to_nifti\n",
            "    common.validate_slicecount(dicom_input)\n",
            "  File \"/usr/local/lib/python3.10/dist-packages/dicom2nifti/common.py\", line 1023, in validate_slicecount\n",
            "    raise ConversionValidationError('TOO_FEW_SLICES/LOCALIZER')\n",
            "dicom2nifti.exceptions.ConversionValidationError: TOO_FEW_SLICES/LOCALIZER\n",
            "WARNING:dicom2nifti.common:At least 3 slices are needed for correct conversion\n",
            "WARNING:dicom2nifti.common:---------------------------------------------------------\n",
            "Traceback (most recent call last):\n",
            "  File \"/usr/local/lib/python3.10/dist-packages/dicom2nifti/convert_dir.py\", line 85, in convert_directory\n",
            "    convert_dicom.dicom_array_to_nifti(dicom_input, nifti_file, reorient)\n",
            "  File \"/usr/local/lib/python3.10/dist-packages/dicom2nifti/convert_dicom.py\", line 118, in dicom_array_to_nifti\n",
            "    results = convert_generic.dicom_to_nifti(dicom_list, output_file)\n",
            "  File \"/usr/local/lib/python3.10/dist-packages/dicom2nifti/convert_generic.py\", line 230, in dicom_to_nifti\n",
            "    common.validate_slicecount(dicom_input)\n",
            "  File \"/usr/local/lib/python3.10/dist-packages/dicom2nifti/common.py\", line 1023, in validate_slicecount\n",
            "    raise ConversionValidationError('TOO_FEW_SLICES/LOCALIZER')\n",
            "dicom2nifti.exceptions.ConversionValidationError: TOO_FEW_SLICES/LOCALIZER\n",
            "WARNING:dicom2nifti.common:At least 3 slices are needed for correct conversion\n",
            "WARNING:dicom2nifti.common:---------------------------------------------------------\n",
            "Traceback (most recent call last):\n",
            "  File \"/usr/local/lib/python3.10/dist-packages/dicom2nifti/convert_dir.py\", line 85, in convert_directory\n",
            "    convert_dicom.dicom_array_to_nifti(dicom_input, nifti_file, reorient)\n",
            "  File \"/usr/local/lib/python3.10/dist-packages/dicom2nifti/convert_dicom.py\", line 118, in dicom_array_to_nifti\n",
            "    results = convert_generic.dicom_to_nifti(dicom_list, output_file)\n",
            "  File \"/usr/local/lib/python3.10/dist-packages/dicom2nifti/convert_generic.py\", line 230, in dicom_to_nifti\n",
            "    common.validate_slicecount(dicom_input)\n",
            "  File \"/usr/local/lib/python3.10/dist-packages/dicom2nifti/common.py\", line 1023, in validate_slicecount\n",
            "    raise ConversionValidationError('TOO_FEW_SLICES/LOCALIZER')\n",
            "dicom2nifti.exceptions.ConversionValidationError: TOO_FEW_SLICES/LOCALIZER\n",
            "WARNING:dicom2nifti.common:At least 3 slices are needed for correct conversion\n",
            "WARNING:dicom2nifti.common:---------------------------------------------------------\n",
            "Traceback (most recent call last):\n",
            "  File \"/usr/local/lib/python3.10/dist-packages/dicom2nifti/convert_dir.py\", line 85, in convert_directory\n",
            "    convert_dicom.dicom_array_to_nifti(dicom_input, nifti_file, reorient)\n",
            "  File \"/usr/local/lib/python3.10/dist-packages/dicom2nifti/convert_dicom.py\", line 118, in dicom_array_to_nifti\n",
            "    results = convert_generic.dicom_to_nifti(dicom_list, output_file)\n",
            "  File \"/usr/local/lib/python3.10/dist-packages/dicom2nifti/convert_generic.py\", line 230, in dicom_to_nifti\n",
            "    common.validate_slicecount(dicom_input)\n",
            "  File \"/usr/local/lib/python3.10/dist-packages/dicom2nifti/common.py\", line 1023, in validate_slicecount\n",
            "    raise ConversionValidationError('TOO_FEW_SLICES/LOCALIZER')\n",
            "dicom2nifti.exceptions.ConversionValidationError: TOO_FEW_SLICES/LOCALIZER\n",
            "WARNING:dicom2nifti.common:At least 3 slices are needed for correct conversion\n",
            "WARNING:dicom2nifti.common:---------------------------------------------------------\n",
            "Traceback (most recent call last):\n",
            "  File \"/usr/local/lib/python3.10/dist-packages/dicom2nifti/convert_dir.py\", line 85, in convert_directory\n",
            "    convert_dicom.dicom_array_to_nifti(dicom_input, nifti_file, reorient)\n",
            "  File \"/usr/local/lib/python3.10/dist-packages/dicom2nifti/convert_dicom.py\", line 118, in dicom_array_to_nifti\n",
            "    results = convert_generic.dicom_to_nifti(dicom_list, output_file)\n",
            "  File \"/usr/local/lib/python3.10/dist-packages/dicom2nifti/convert_generic.py\", line 230, in dicom_to_nifti\n",
            "    common.validate_slicecount(dicom_input)\n",
            "  File \"/usr/local/lib/python3.10/dist-packages/dicom2nifti/common.py\", line 1023, in validate_slicecount\n",
            "    raise ConversionValidationError('TOO_FEW_SLICES/LOCALIZER')\n",
            "dicom2nifti.exceptions.ConversionValidationError: TOO_FEW_SLICES/LOCALIZER\n",
            "WARNING:dicom2nifti.common:At least 3 slices are needed for correct conversion\n",
            "WARNING:dicom2nifti.common:---------------------------------------------------------\n",
            "Traceback (most recent call last):\n",
            "  File \"/usr/local/lib/python3.10/dist-packages/dicom2nifti/convert_dir.py\", line 85, in convert_directory\n",
            "    convert_dicom.dicom_array_to_nifti(dicom_input, nifti_file, reorient)\n",
            "  File \"/usr/local/lib/python3.10/dist-packages/dicom2nifti/convert_dicom.py\", line 118, in dicom_array_to_nifti\n",
            "    results = convert_generic.dicom_to_nifti(dicom_list, output_file)\n",
            "  File \"/usr/local/lib/python3.10/dist-packages/dicom2nifti/convert_generic.py\", line 230, in dicom_to_nifti\n",
            "    common.validate_slicecount(dicom_input)\n",
            "  File \"/usr/local/lib/python3.10/dist-packages/dicom2nifti/common.py\", line 1023, in validate_slicecount\n",
            "    raise ConversionValidationError('TOO_FEW_SLICES/LOCALIZER')\n",
            "dicom2nifti.exceptions.ConversionValidationError: TOO_FEW_SLICES/LOCALIZER\n",
            "WARNING:dicom2nifti.common:At least 3 slices are needed for correct conversion\n",
            "WARNING:dicom2nifti.common:---------------------------------------------------------\n",
            "Traceback (most recent call last):\n",
            "  File \"/usr/local/lib/python3.10/dist-packages/dicom2nifti/convert_dir.py\", line 85, in convert_directory\n",
            "    convert_dicom.dicom_array_to_nifti(dicom_input, nifti_file, reorient)\n",
            "  File \"/usr/local/lib/python3.10/dist-packages/dicom2nifti/convert_dicom.py\", line 118, in dicom_array_to_nifti\n",
            "    results = convert_generic.dicom_to_nifti(dicom_list, output_file)\n",
            "  File \"/usr/local/lib/python3.10/dist-packages/dicom2nifti/convert_generic.py\", line 230, in dicom_to_nifti\n",
            "    common.validate_slicecount(dicom_input)\n",
            "  File \"/usr/local/lib/python3.10/dist-packages/dicom2nifti/common.py\", line 1023, in validate_slicecount\n",
            "    raise ConversionValidationError('TOO_FEW_SLICES/LOCALIZER')\n",
            "dicom2nifti.exceptions.ConversionValidationError: TOO_FEW_SLICES/LOCALIZER\n",
            "WARNING:dicom2nifti.common:At least 3 slices are needed for correct conversion\n",
            "WARNING:dicom2nifti.common:---------------------------------------------------------\n",
            "Traceback (most recent call last):\n",
            "  File \"/usr/local/lib/python3.10/dist-packages/dicom2nifti/convert_dir.py\", line 85, in convert_directory\n",
            "    convert_dicom.dicom_array_to_nifti(dicom_input, nifti_file, reorient)\n",
            "  File \"/usr/local/lib/python3.10/dist-packages/dicom2nifti/convert_dicom.py\", line 118, in dicom_array_to_nifti\n",
            "    results = convert_generic.dicom_to_nifti(dicom_list, output_file)\n",
            "  File \"/usr/local/lib/python3.10/dist-packages/dicom2nifti/convert_generic.py\", line 230, in dicom_to_nifti\n",
            "    common.validate_slicecount(dicom_input)\n",
            "  File \"/usr/local/lib/python3.10/dist-packages/dicom2nifti/common.py\", line 1023, in validate_slicecount\n",
            "    raise ConversionValidationError('TOO_FEW_SLICES/LOCALIZER')\n",
            "dicom2nifti.exceptions.ConversionValidationError: TOO_FEW_SLICES/LOCALIZER\n",
            "WARNING:dicom2nifti.common:At least 3 slices are needed for correct conversion\n",
            "WARNING:dicom2nifti.common:---------------------------------------------------------\n",
            "Traceback (most recent call last):\n",
            "  File \"/usr/local/lib/python3.10/dist-packages/dicom2nifti/convert_dir.py\", line 85, in convert_directory\n",
            "    convert_dicom.dicom_array_to_nifti(dicom_input, nifti_file, reorient)\n",
            "  File \"/usr/local/lib/python3.10/dist-packages/dicom2nifti/convert_dicom.py\", line 118, in dicom_array_to_nifti\n",
            "    results = convert_generic.dicom_to_nifti(dicom_list, output_file)\n",
            "  File \"/usr/local/lib/python3.10/dist-packages/dicom2nifti/convert_generic.py\", line 230, in dicom_to_nifti\n",
            "    common.validate_slicecount(dicom_input)\n",
            "  File \"/usr/local/lib/python3.10/dist-packages/dicom2nifti/common.py\", line 1023, in validate_slicecount\n",
            "    raise ConversionValidationError('TOO_FEW_SLICES/LOCALIZER')\n",
            "dicom2nifti.exceptions.ConversionValidationError: TOO_FEW_SLICES/LOCALIZER\n",
            "WARNING:dicom2nifti.common:At least 3 slices are needed for correct conversion\n",
            "WARNING:dicom2nifti.common:---------------------------------------------------------\n",
            "Traceback (most recent call last):\n",
            "  File \"/usr/local/lib/python3.10/dist-packages/dicom2nifti/convert_dir.py\", line 85, in convert_directory\n",
            "    convert_dicom.dicom_array_to_nifti(dicom_input, nifti_file, reorient)\n",
            "  File \"/usr/local/lib/python3.10/dist-packages/dicom2nifti/convert_dicom.py\", line 118, in dicom_array_to_nifti\n",
            "    results = convert_generic.dicom_to_nifti(dicom_list, output_file)\n",
            "  File \"/usr/local/lib/python3.10/dist-packages/dicom2nifti/convert_generic.py\", line 230, in dicom_to_nifti\n",
            "    common.validate_slicecount(dicom_input)\n",
            "  File \"/usr/local/lib/python3.10/dist-packages/dicom2nifti/common.py\", line 1023, in validate_slicecount\n",
            "    raise ConversionValidationError('TOO_FEW_SLICES/LOCALIZER')\n",
            "dicom2nifti.exceptions.ConversionValidationError: TOO_FEW_SLICES/LOCALIZER\n",
            "WARNING:dicom2nifti.common:At least 3 slices are needed for correct conversion\n",
            "WARNING:dicom2nifti.common:---------------------------------------------------------\n",
            "Traceback (most recent call last):\n",
            "  File \"/usr/local/lib/python3.10/dist-packages/dicom2nifti/convert_dir.py\", line 85, in convert_directory\n",
            "    convert_dicom.dicom_array_to_nifti(dicom_input, nifti_file, reorient)\n",
            "  File \"/usr/local/lib/python3.10/dist-packages/dicom2nifti/convert_dicom.py\", line 118, in dicom_array_to_nifti\n",
            "    results = convert_generic.dicom_to_nifti(dicom_list, output_file)\n",
            "  File \"/usr/local/lib/python3.10/dist-packages/dicom2nifti/convert_generic.py\", line 230, in dicom_to_nifti\n",
            "    common.validate_slicecount(dicom_input)\n",
            "  File \"/usr/local/lib/python3.10/dist-packages/dicom2nifti/common.py\", line 1023, in validate_slicecount\n",
            "    raise ConversionValidationError('TOO_FEW_SLICES/LOCALIZER')\n",
            "dicom2nifti.exceptions.ConversionValidationError: TOO_FEW_SLICES/LOCALIZER\n",
            "WARNING:dicom2nifti.common:At least 3 slices are needed for correct conversion\n",
            "WARNING:dicom2nifti.common:---------------------------------------------------------\n",
            "Traceback (most recent call last):\n",
            "  File \"/usr/local/lib/python3.10/dist-packages/dicom2nifti/convert_dir.py\", line 85, in convert_directory\n",
            "    convert_dicom.dicom_array_to_nifti(dicom_input, nifti_file, reorient)\n",
            "  File \"/usr/local/lib/python3.10/dist-packages/dicom2nifti/convert_dicom.py\", line 118, in dicom_array_to_nifti\n",
            "    results = convert_generic.dicom_to_nifti(dicom_list, output_file)\n",
            "  File \"/usr/local/lib/python3.10/dist-packages/dicom2nifti/convert_generic.py\", line 230, in dicom_to_nifti\n",
            "    common.validate_slicecount(dicom_input)\n",
            "  File \"/usr/local/lib/python3.10/dist-packages/dicom2nifti/common.py\", line 1023, in validate_slicecount\n",
            "    raise ConversionValidationError('TOO_FEW_SLICES/LOCALIZER')\n",
            "dicom2nifti.exceptions.ConversionValidationError: TOO_FEW_SLICES/LOCALIZER\n",
            "WARNING:dicom2nifti.common:At least 3 slices are needed for correct conversion\n",
            "WARNING:dicom2nifti.common:---------------------------------------------------------\n",
            "Traceback (most recent call last):\n",
            "  File \"/usr/local/lib/python3.10/dist-packages/dicom2nifti/convert_dir.py\", line 85, in convert_directory\n",
            "    convert_dicom.dicom_array_to_nifti(dicom_input, nifti_file, reorient)\n",
            "  File \"/usr/local/lib/python3.10/dist-packages/dicom2nifti/convert_dicom.py\", line 118, in dicom_array_to_nifti\n",
            "    results = convert_generic.dicom_to_nifti(dicom_list, output_file)\n",
            "  File \"/usr/local/lib/python3.10/dist-packages/dicom2nifti/convert_generic.py\", line 230, in dicom_to_nifti\n",
            "    common.validate_slicecount(dicom_input)\n",
            "  File \"/usr/local/lib/python3.10/dist-packages/dicom2nifti/common.py\", line 1023, in validate_slicecount\n",
            "    raise ConversionValidationError('TOO_FEW_SLICES/LOCALIZER')\n",
            "dicom2nifti.exceptions.ConversionValidationError: TOO_FEW_SLICES/LOCALIZER\n",
            "WARNING:dicom2nifti.common:At least 3 slices are needed for correct conversion\n",
            "WARNING:dicom2nifti.common:---------------------------------------------------------\n",
            "Traceback (most recent call last):\n",
            "  File \"/usr/local/lib/python3.10/dist-packages/dicom2nifti/convert_dir.py\", line 85, in convert_directory\n",
            "    convert_dicom.dicom_array_to_nifti(dicom_input, nifti_file, reorient)\n",
            "  File \"/usr/local/lib/python3.10/dist-packages/dicom2nifti/convert_dicom.py\", line 118, in dicom_array_to_nifti\n",
            "    results = convert_generic.dicom_to_nifti(dicom_list, output_file)\n",
            "  File \"/usr/local/lib/python3.10/dist-packages/dicom2nifti/convert_generic.py\", line 230, in dicom_to_nifti\n",
            "    common.validate_slicecount(dicom_input)\n",
            "  File \"/usr/local/lib/python3.10/dist-packages/dicom2nifti/common.py\", line 1023, in validate_slicecount\n",
            "    raise ConversionValidationError('TOO_FEW_SLICES/LOCALIZER')\n",
            "dicom2nifti.exceptions.ConversionValidationError: TOO_FEW_SLICES/LOCALIZER\n",
            "WARNING:dicom2nifti.common:At least 3 slices are needed for correct conversion\n",
            "WARNING:dicom2nifti.common:---------------------------------------------------------\n",
            "Traceback (most recent call last):\n",
            "  File \"/usr/local/lib/python3.10/dist-packages/dicom2nifti/convert_dir.py\", line 85, in convert_directory\n",
            "    convert_dicom.dicom_array_to_nifti(dicom_input, nifti_file, reorient)\n",
            "  File \"/usr/local/lib/python3.10/dist-packages/dicom2nifti/convert_dicom.py\", line 118, in dicom_array_to_nifti\n",
            "    results = convert_generic.dicom_to_nifti(dicom_list, output_file)\n",
            "  File \"/usr/local/lib/python3.10/dist-packages/dicom2nifti/convert_generic.py\", line 230, in dicom_to_nifti\n",
            "    common.validate_slicecount(dicom_input)\n",
            "  File \"/usr/local/lib/python3.10/dist-packages/dicom2nifti/common.py\", line 1023, in validate_slicecount\n",
            "    raise ConversionValidationError('TOO_FEW_SLICES/LOCALIZER')\n",
            "dicom2nifti.exceptions.ConversionValidationError: TOO_FEW_SLICES/LOCALIZER\n",
            "WARNING:dicom2nifti.common:At least 3 slices are needed for correct conversion\n",
            "WARNING:dicom2nifti.common:---------------------------------------------------------\n",
            "Traceback (most recent call last):\n",
            "  File \"/usr/local/lib/python3.10/dist-packages/dicom2nifti/convert_dir.py\", line 85, in convert_directory\n",
            "    convert_dicom.dicom_array_to_nifti(dicom_input, nifti_file, reorient)\n",
            "  File \"/usr/local/lib/python3.10/dist-packages/dicom2nifti/convert_dicom.py\", line 118, in dicom_array_to_nifti\n",
            "    results = convert_generic.dicom_to_nifti(dicom_list, output_file)\n",
            "  File \"/usr/local/lib/python3.10/dist-packages/dicom2nifti/convert_generic.py\", line 230, in dicom_to_nifti\n",
            "    common.validate_slicecount(dicom_input)\n",
            "  File \"/usr/local/lib/python3.10/dist-packages/dicom2nifti/common.py\", line 1023, in validate_slicecount\n",
            "    raise ConversionValidationError('TOO_FEW_SLICES/LOCALIZER')\n",
            "dicom2nifti.exceptions.ConversionValidationError: TOO_FEW_SLICES/LOCALIZER\n",
            "WARNING:dicom2nifti.common:At least 3 slices are needed for correct conversion\n",
            "WARNING:dicom2nifti.common:---------------------------------------------------------\n",
            "Traceback (most recent call last):\n",
            "  File \"/usr/local/lib/python3.10/dist-packages/dicom2nifti/convert_dir.py\", line 85, in convert_directory\n",
            "    convert_dicom.dicom_array_to_nifti(dicom_input, nifti_file, reorient)\n",
            "  File \"/usr/local/lib/python3.10/dist-packages/dicom2nifti/convert_dicom.py\", line 118, in dicom_array_to_nifti\n",
            "    results = convert_generic.dicom_to_nifti(dicom_list, output_file)\n",
            "  File \"/usr/local/lib/python3.10/dist-packages/dicom2nifti/convert_generic.py\", line 230, in dicom_to_nifti\n",
            "    common.validate_slicecount(dicom_input)\n",
            "  File \"/usr/local/lib/python3.10/dist-packages/dicom2nifti/common.py\", line 1023, in validate_slicecount\n",
            "    raise ConversionValidationError('TOO_FEW_SLICES/LOCALIZER')\n",
            "dicom2nifti.exceptions.ConversionValidationError: TOO_FEW_SLICES/LOCALIZER\n",
            "WARNING:dicom2nifti.common:At least 3 slices are needed for correct conversion\n",
            "WARNING:dicom2nifti.common:---------------------------------------------------------\n",
            "Traceback (most recent call last):\n",
            "  File \"/usr/local/lib/python3.10/dist-packages/dicom2nifti/convert_dir.py\", line 85, in convert_directory\n",
            "    convert_dicom.dicom_array_to_nifti(dicom_input, nifti_file, reorient)\n",
            "  File \"/usr/local/lib/python3.10/dist-packages/dicom2nifti/convert_dicom.py\", line 118, in dicom_array_to_nifti\n",
            "    results = convert_generic.dicom_to_nifti(dicom_list, output_file)\n",
            "  File \"/usr/local/lib/python3.10/dist-packages/dicom2nifti/convert_generic.py\", line 230, in dicom_to_nifti\n",
            "    common.validate_slicecount(dicom_input)\n",
            "  File \"/usr/local/lib/python3.10/dist-packages/dicom2nifti/common.py\", line 1023, in validate_slicecount\n",
            "    raise ConversionValidationError('TOO_FEW_SLICES/LOCALIZER')\n",
            "dicom2nifti.exceptions.ConversionValidationError: TOO_FEW_SLICES/LOCALIZER\n",
            "WARNING:dicom2nifti.common:At least 3 slices are needed for correct conversion\n",
            "WARNING:dicom2nifti.common:---------------------------------------------------------\n",
            "Traceback (most recent call last):\n",
            "  File \"/usr/local/lib/python3.10/dist-packages/dicom2nifti/convert_dir.py\", line 85, in convert_directory\n",
            "    convert_dicom.dicom_array_to_nifti(dicom_input, nifti_file, reorient)\n",
            "  File \"/usr/local/lib/python3.10/dist-packages/dicom2nifti/convert_dicom.py\", line 118, in dicom_array_to_nifti\n",
            "    results = convert_generic.dicom_to_nifti(dicom_list, output_file)\n",
            "  File \"/usr/local/lib/python3.10/dist-packages/dicom2nifti/convert_generic.py\", line 230, in dicom_to_nifti\n",
            "    common.validate_slicecount(dicom_input)\n",
            "  File \"/usr/local/lib/python3.10/dist-packages/dicom2nifti/common.py\", line 1023, in validate_slicecount\n",
            "    raise ConversionValidationError('TOO_FEW_SLICES/LOCALIZER')\n",
            "dicom2nifti.exceptions.ConversionValidationError: TOO_FEW_SLICES/LOCALIZER\n"
          ]
        }
      ]
    },
    {
      "cell_type": "code",
      "source": [
        "lung_ct = nib.load(\"lung_043.nii.gz\")\n",
        "lung_ct_data = lung_ct.get_fdata()"
      ],
      "metadata": {
        "id": "LFpbyyLncuLy"
      },
      "execution_count": null,
      "outputs": []
    },
    {
      "cell_type": "code",
      "source": [
        "lung_ct_data_standardized = lung_ct_data / 3071"
      ],
      "metadata": {
        "id": "5SvEd5ERdf2r"
      },
      "execution_count": null,
      "outputs": []
    },
    {
      "cell_type": "code",
      "source": [
        "plt.figure()\n",
        "plt.imshow(np.rot90(lung_ct_data_standardized[:, :, 50]), cmap=\"gray\")"
      ],
      "metadata": {
        "id": "gpyWTJH4dngx"
      },
      "execution_count": null,
      "outputs": []
    },
    {
      "cell_type": "code",
      "source": [
        "lung_ct_lung_window = np.clip(lung_ct_data, -1000, -500)\n",
        "plt.figure()\n",
        "plt.imshow(np.rot90(lung_ct_lung_window[:, :, 50]), cmap=\"bone\")"
      ],
      "metadata": {
        "id": "Q8hNQgmnd6Ud"
      },
      "execution_count": null,
      "outputs": []
    },
    {
      "cell_type": "code",
      "source": [
        "lung_ct_soft_tissue_window = np.clip(lung_ct_data, -250, 250)\n",
        "plt.figure()\n",
        "plt.imshow(np.rot90(lung_ct_soft_tissue_window[:, :, 5]), cmap=\"gray\")"
      ],
      "metadata": {
        "id": "jQ8fHCTXetRt"
      },
      "execution_count": null,
      "outputs": []
    },
    {
      "cell_type": "code",
      "source": [
        "cardiac_mri = nib.load(\"la_003.nii.gz\")\n",
        "cardiac_mri_data = cardiac_mri.get_fdata()"
      ],
      "metadata": {
        "id": "uuaNfKTTfKQH"
      },
      "execution_count": null,
      "outputs": []
    },
    {
      "cell_type": "code",
      "source": [
        "mean, std = cardiac_mri_data.mean(), cardiac_mri_data.std()\n",
        "cardiac_mri_norm = (cardiac_mri_data - mean) / std\n",
        "cardiac_mri_standardized = (cardiac_mri_norm - np.min(cardiac_mri_norm)) / (np.max(cardiac_mri_norm) - np.min(cardiac_mri_norm))"
      ],
      "metadata": {
        "id": "zGeYrrHpfX7x"
      },
      "execution_count": null,
      "outputs": []
    },
    {
      "cell_type": "code",
      "source": [
        "plt.figure()\n",
        "plt.imshow(cardiac_mri_standardized[:, :, 30], cmap=\"gray\")"
      ],
      "metadata": {
        "id": "rpGNLSpjgDSX"
      },
      "execution_count": null,
      "outputs": []
    }
  ]
}